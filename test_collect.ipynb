{
 "cells": [
  {
   "cell_type": "code",
   "execution_count": 1,
   "metadata": {},
   "outputs": [],
   "source": [
    "import pandas as pd\n",
    "import numpy as np\n",
    "from matplotlib import pyplot as plt\n",
    "import matplotlib.patches as patches\n",
    "import mplcyberpunk\n",
    "import seaborn as sns\n"
   ]
  },
  {
   "cell_type": "code",
   "execution_count": 2,
   "metadata": {},
   "outputs": [],
   "source": [
    "\"\"\"Realtime Events API Client for DSI Fraud Detection Case Study\"\"\"\n",
    "import time\n",
    "import requests\n",
    "import pymongo\n",
    "\n",
    "\n",
    "class EventAPIClient:\n",
    "    \"\"\"Realtime Events API Client\"\"\"\n",
    "\n",
    "    def __init__(self, first_sequence_number=0,\n",
    "                 api_url='https://hxobin8em5.execute-api.us-west-2.amazonaws.com/api/',\n",
    "                 api_key='vYm9mTUuspeyAWH1v-acfoTlck-tCxwTw9YfCynC',\n",
    "                 db=None,\n",
    "                 interval=30):\n",
    "        \"\"\"Initialize the API client.\"\"\"\n",
    "        self.next_sequence_number = first_sequence_number\n",
    "        self.api_url = api_url\n",
    "        self.api_key = api_key\n",
    "        self.db = db\n",
    "        self.interval = 30\n",
    "        self.data = []\n",
    "\n",
    "    def save_to_database(self, row):\n",
    "        \"\"\"Save a data row to the database.\"\"\"\n",
    "        self.data.append(row)\n",
    "\n",
    "    def get_data(self):\n",
    "        \"\"\"Fetch data from the API.\"\"\"\n",
    "        payload = {'api_key': self.api_key,\n",
    "                   'sequence_number': self.next_sequence_number}\n",
    "        response = requests.post(self.api_url, json=payload)\n",
    "        data = response.json()\n",
    "        self.next_sequence_number = data['_next_sequence_number']\n",
    "        return data['data']\n",
    "\n",
    "    def collect(self, interval=60):\n",
    "        \"\"\"Check for new data from the API periodically.\"\"\"\n",
    "        for _ in range(20):\n",
    "            print(\"Requesting data...\")\n",
    "            data = self.get_data()\n",
    "            if data:\n",
    "                print(\"Saving...\")\n",
    "                for row in data:\n",
    "                    self.save_to_database(row)\n",
    "            else:\n",
    "                print(\"No new data received.\")\n",
    "            print(f\"Waiting {interval} seconds...\")\n",
    "            time.sleep(interval)"
   ]
  },
  {
   "cell_type": "code",
   "execution_count": 3,
   "metadata": {},
   "outputs": [],
   "source": [
    "event_api = EventAPIClient()"
   ]
  },
  {
   "cell_type": "code",
   "execution_count": 4,
   "metadata": {},
   "outputs": [
    {
     "name": "stdout",
     "output_type": "stream",
     "text": [
      "Requesting data...\n",
      "Saving...\n",
      "Waiting 60 seconds...\n",
      "Requesting data...\n",
      "Saving...\n",
      "Waiting 60 seconds...\n",
      "Requesting data...\n",
      "No new data received.\n",
      "Waiting 60 seconds...\n",
      "Requesting data...\n",
      "No new data received.\n",
      "Waiting 60 seconds...\n",
      "Requesting data...\n",
      "Saving...\n",
      "Waiting 60 seconds...\n",
      "Requesting data...\n",
      "No new data received.\n",
      "Waiting 60 seconds...\n",
      "Requesting data...\n",
      "No new data received.\n",
      "Waiting 60 seconds...\n",
      "Requesting data...\n",
      "Saving...\n",
      "Waiting 60 seconds...\n",
      "Requesting data...\n",
      "No new data received.\n",
      "Waiting 60 seconds...\n",
      "Requesting data...\n",
      "No new data received.\n",
      "Waiting 60 seconds...\n",
      "Requesting data...\n",
      "Saving...\n",
      "Waiting 60 seconds...\n",
      "Requesting data...\n",
      "No new data received.\n",
      "Waiting 60 seconds...\n",
      "Requesting data...\n",
      "No new data received.\n",
      "Waiting 60 seconds...\n",
      "Requesting data...\n",
      "Saving...\n",
      "Waiting 60 seconds...\n",
      "Requesting data...\n",
      "No new data received.\n",
      "Waiting 60 seconds...\n",
      "Requesting data...\n",
      "Saving...\n",
      "Waiting 60 seconds...\n",
      "Requesting data...\n",
      "No new data received.\n",
      "Waiting 60 seconds...\n",
      "Requesting data...\n",
      "No new data received.\n",
      "Waiting 60 seconds...\n",
      "Requesting data...\n",
      "Saving...\n",
      "Waiting 60 seconds...\n",
      "Requesting data...\n",
      "No new data received.\n",
      "Waiting 60 seconds...\n"
     ]
    }
   ],
   "source": [
    "event_api.collect()"
   ]
  },
  {
   "cell_type": "code",
   "execution_count": 8,
   "metadata": {},
   "outputs": [
    {
     "data": {
      "text/plain": [
       "8"
      ]
     },
     "execution_count": 8,
     "metadata": {},
     "output_type": "execute_result"
    }
   ],
   "source": [
    "len(event_api.data)"
   ]
  }
 ],
 "metadata": {
  "kernelspec": {
   "display_name": "Python 3",
   "language": "python",
   "name": "python3"
  },
  "language_info": {
   "codemirror_mode": {
    "name": "ipython",
    "version": 3
   },
   "file_extension": ".py",
   "mimetype": "text/x-python",
   "name": "python",
   "nbconvert_exporter": "python",
   "pygments_lexer": "ipython3",
   "version": "3.7.6"
  }
 },
 "nbformat": 4,
 "nbformat_minor": 4
}

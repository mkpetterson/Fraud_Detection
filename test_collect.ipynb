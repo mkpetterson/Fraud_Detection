{
 "cells": [
  {
   "cell_type": "code",
   "execution_count": 1,
   "metadata": {},
   "outputs": [],
   "source": [
    "import pandas as pd\n",
    "import numpy as np\n",
    "from matplotlib import pyplot as plt\n",
    "import matplotlib.patches as patches\n",
    "import matplotlib.dates as mdates\n",
    "import matplotlib.cbook as cbook\n",
    "import mplcyberpunk\n",
    "import seaborn as sns\n",
    "\n",
    "plt.style.use(\"cyberpunk\")"
   ]
  },
  {
   "cell_type": "code",
   "execution_count": 2,
   "metadata": {},
   "outputs": [],
   "source": [
    "# Import Custom Modules\n",
    "from src.cleaner import *"
   ]
  },
  {
   "cell_type": "code",
   "execution_count": 3,
   "metadata": {},
   "outputs": [],
   "source": [
    "\"\"\"Realtime Events API Client for DSI Fraud Detection Case Study\"\"\"\n",
    "import time\n",
    "import requests\n",
    "import pymongo\n",
    "\n",
    "\n",
    "class EventAPIClient:\n",
    "    \"\"\"Realtime Events API Client\"\"\"\n",
    "\n",
    "    def __init__(self, first_sequence_number=0,\n",
    "                 api_url='https://hxobin8em5.execute-api.us-west-2.amazonaws.com/api/',\n",
    "                 api_key='vYm9mTUuspeyAWH1v-acfoTlck-tCxwTw9YfCynC',\n",
    "                 db=None,\n",
    "                 interval=30):\n",
    "        \"\"\"Initialize the API client.\"\"\"\n",
    "        self.next_sequence_number = first_sequence_number\n",
    "        self.api_url = api_url\n",
    "        self.api_key = api_key\n",
    "        self.db = db\n",
    "        self.interval = 30\n",
    "        self.data = []\n",
    "\n",
    "    def save_to_database(self, row):\n",
    "        \"\"\"Save a data row to the database.\"\"\"\n",
    "        self.data.append(row)\n",
    "\n",
    "    def get_data(self):\n",
    "        \"\"\"Fetch data from the API.\"\"\"\n",
    "        payload = {'api_key': self.api_key,\n",
    "                   'sequence_number': self.next_sequence_number}\n",
    "        response = requests.post(self.api_url, json=payload)\n",
    "        data = response.json()\n",
    "        self.next_sequence_number = data['_next_sequence_number']\n",
    "        return data['data']\n",
    "\n",
    "    def collect(self, interval=60):\n",
    "        \"\"\"Check for new data from the API periodically.\"\"\"\n",
    "        for _ in range(20):\n",
    "            print(\"Requesting data...\")\n",
    "            data = self.get_data()\n",
    "            if data:\n",
    "                print(\"Saving...\")\n",
    "                for row in data:\n",
    "                    self.save_to_database(row)\n",
    "            else:\n",
    "                print(\"No new data received.\")\n",
    "            print(f\"Waiting {interval} seconds...\")\n",
    "            time.sleep(interval)"
   ]
  },
  {
   "cell_type": "code",
   "execution_count": 4,
   "metadata": {},
   "outputs": [],
   "source": [
    "event_api = EventAPIClient()"
   ]
  },
  {
   "cell_type": "code",
   "execution_count": 5,
   "metadata": {},
   "outputs": [],
   "source": [
    "# event_api.collect()"
   ]
  },
  {
   "cell_type": "code",
   "execution_count": 6,
   "metadata": {},
   "outputs": [],
   "source": [
    "# len(event_api.data)"
   ]
  },
  {
   "cell_type": "code",
   "execution_count": 7,
   "metadata": {},
   "outputs": [],
   "source": [
    "def re_add_features(data:pd.DataFrame, data2:pd.DataFrame) -> pd.DataFrame:\n",
    "    \"\"\" Adds wanted features back from original dataframe \"\"\"\n",
    "    res = data.copy()\n",
    "    from_ = data2.copy()\n",
    "    \n",
    "    res['event_created'] = from_['event_created']\n",
    "    res['event_end'] = from_['event_end']\n",
    "    res['event_published'] = from_['event_published']\n",
    "    res['user_created'] = from_['user_created']\n",
    "    \n",
    "\n",
    "    return res"
   ]
  },
  {
   "cell_type": "code",
   "execution_count": 8,
   "metadata": {},
   "outputs": [],
   "source": [
    "# Import Data\n",
    "data = pd.read_json('data/data.json')\n",
    "# Clean Data\n",
    "df = clean_with_target(data)"
   ]
  },
  {
   "cell_type": "code",
   "execution_count": 9,
   "metadata": {},
   "outputs": [
    {
     "data": {
      "text/html": [
       "<div>\n",
       "<style scoped>\n",
       "    .dataframe tbody tr th:only-of-type {\n",
       "        vertical-align: middle;\n",
       "    }\n",
       "\n",
       "    .dataframe tbody tr th {\n",
       "        vertical-align: top;\n",
       "    }\n",
       "\n",
       "    .dataframe thead th {\n",
       "        text-align: right;\n",
       "    }\n",
       "</style>\n",
       "<table border=\"1\" class=\"dataframe\">\n",
       "  <thead>\n",
       "    <tr style=\"text-align: right;\">\n",
       "      <th></th>\n",
       "      <th>channels</th>\n",
       "      <th>country</th>\n",
       "      <th>currency</th>\n",
       "      <th>delivery_method</th>\n",
       "      <th>email_domain</th>\n",
       "      <th>fb_published</th>\n",
       "      <th>has_logo</th>\n",
       "      <th>listed</th>\n",
       "      <th>payee_name</th>\n",
       "      <th>payout_type</th>\n",
       "      <th>...</th>\n",
       "      <th>venue_latitude</th>\n",
       "      <th>venue_longitude</th>\n",
       "      <th>fraud</th>\n",
       "      <th>n_previous_payouts</th>\n",
       "      <th>event_duration</th>\n",
       "      <th>event_till_publish</th>\n",
       "      <th>user_event_lifespan</th>\n",
       "      <th>event_created</th>\n",
       "      <th>event_end</th>\n",
       "      <th>event_published</th>\n",
       "    </tr>\n",
       "  </thead>\n",
       "  <tbody>\n",
       "    <tr>\n",
       "      <th>0</th>\n",
       "      <td>5</td>\n",
       "      <td>840</td>\n",
       "      <td>840</td>\n",
       "      <td>0.0</td>\n",
       "      <td>gmail.com</td>\n",
       "      <td>0</td>\n",
       "      <td>0</td>\n",
       "      <td>1</td>\n",
       "      <td></td>\n",
       "      <td>3</td>\n",
       "      <td>...</td>\n",
       "      <td>25.777471</td>\n",
       "      <td>-80.133433</td>\n",
       "      <td>1</td>\n",
       "      <td>0</td>\n",
       "      <td>36000</td>\n",
       "      <td>370132.0</td>\n",
       "      <td>3125756</td>\n",
       "      <td>1262739706</td>\n",
       "      <td>1265630400</td>\n",
       "      <td>1.263110e+09</td>\n",
       "    </tr>\n",
       "    <tr>\n",
       "      <th>1</th>\n",
       "      <td>0</td>\n",
       "      <td>840</td>\n",
       "      <td>840</td>\n",
       "      <td>1.0</td>\n",
       "      <td>ruf.org</td>\n",
       "      <td>0</td>\n",
       "      <td>1</td>\n",
       "      <td>0</td>\n",
       "      <td>RUF</td>\n",
       "      <td>2</td>\n",
       "      <td>...</td>\n",
       "      <td>32.776566</td>\n",
       "      <td>-79.930922</td>\n",
       "      <td>0</td>\n",
       "      <td>49</td>\n",
       "      <td>32400</td>\n",
       "      <td>625.0</td>\n",
       "      <td>12889894</td>\n",
       "      <td>1293832670</td>\n",
       "      <td>1296288000</td>\n",
       "      <td>1.293833e+09</td>\n",
       "    </tr>\n",
       "  </tbody>\n",
       "</table>\n",
       "<p>2 rows × 23 columns</p>\n",
       "</div>"
      ],
      "text/plain": [
       "   channels  country  currency  delivery_method email_domain  fb_published  \\\n",
       "0         5      840       840              0.0    gmail.com             0   \n",
       "1         0      840       840              1.0      ruf.org             0   \n",
       "\n",
       "   has_logo  listed payee_name  payout_type  ...  venue_latitude  \\\n",
       "0         0       1                       3  ...       25.777471   \n",
       "1         1       0        RUF            2  ...       32.776566   \n",
       "\n",
       "   venue_longitude  fraud  n_previous_payouts  event_duration  \\\n",
       "0       -80.133433      1                   0           36000   \n",
       "1       -79.930922      0                  49           32400   \n",
       "\n",
       "   event_till_publish  user_event_lifespan  event_created   event_end  \\\n",
       "0            370132.0              3125756     1262739706  1265630400   \n",
       "1               625.0             12889894     1293832670  1296288000   \n",
       "\n",
       "   event_published  \n",
       "0     1.263110e+09  \n",
       "1     1.293833e+09  \n",
       "\n",
       "[2 rows x 23 columns]"
      ]
     },
     "execution_count": 9,
     "metadata": {},
     "output_type": "execute_result"
    }
   ],
   "source": [
    "df = re_add_features(df, data)\n",
    "df.head(2)"
   ]
  },
  {
   "cell_type": "code",
   "execution_count": 10,
   "metadata": {},
   "outputs": [],
   "source": [
    "# Sort in Chronological Order\n",
    "df.sort_values(by='event_end', inplace=True)"
   ]
  },
  {
   "cell_type": "code",
   "execution_count": 11,
   "metadata": {},
   "outputs": [],
   "source": [
    "from datetime import datetime\n",
    "\n",
    "df['event_end'] = df['event_end'].apply(lambda x: datetime.fromtimestamp(x).date())"
   ]
  },
  {
   "cell_type": "code",
   "execution_count": 12,
   "metadata": {},
   "outputs": [],
   "source": [
    "# Set up date for graphing\n",
    "fraud_over_time  = df[['event_end', 'fraud']].copy()\n",
    "fraud_over_time['date'] = fraud_over_time['event_end']\n",
    "fraud_over_time.drop(columns=['event_end'], inplace=True)\n",
    "\n",
    "fraud_over_time['date'] = pd.to_datetime(fraud_over_time['date'], infer_datetime_format=True)\n",
    "\n",
    "# fraud_over_time = fraud_over_time.set_index('date')\n",
    "\n",
    "fraud_over_time = fraud_over_time.groupby(by='date').count()\n",
    "\n",
    "# fraud_over_time"
   ]
  },
  {
   "cell_type": "code",
   "execution_count": 15,
   "metadata": {},
   "outputs": [
    {
     "data": {
      "image/png": "[encoded data removed]",
      "text/plain": [
       "<Figure size 480x320 with 1 Axes>"
      ]
     },
     "metadata": {},
     "output_type": "display_data"
    }
   ],
   "source": [
    "# Plot over Time\n",
    "alpha_col = 0.7\n",
    "colors = [\"g\", \"deeppink\", \"dodgerblue\", \"orange\", \"white\", \"purple\", \"red\"]\n",
    "\n",
    "# set the frequency for labelling the yaxis\n",
    "freq = int(4)\n",
    "\n",
    "\n",
    "# Set Start date to 2010-2015\n",
    "fraud_over_time = fraud_over_time[datetime(2010, 6, 1):]\n",
    "fraud_over_time = fraud_over_time[:datetime(2015, 6, 1)]\n",
    "\n",
    "fraud_count_culmulative = fraud_over_time.resample('M').sum()\n",
    "\n",
    "\n",
    "fig, ax = plt.subplots(dpi=80)\n",
    "\n",
    "fig = sns.barplot(x = fraud_count_culmulative.index, y = fraud_count_culmulative[\"fraud\"], \n",
    "                  estimator = sum, ci = None, ax=ax, orient='v')\n",
    "\n",
    "x_dates = [datetime.date(x) for x in fraud_count_culmulative.index.tolist()]\n",
    "\n",
    "\n",
    "# Decoration\n",
    "plt.title('\\nFraud over Time\\n', fontsize=22)\n",
    "plt.xlabel(\"Month\\n\", fontsize=18)\n",
    "plt.ylabel(\"N Cases of Fraud\\n\", fontsize=18)\n",
    "\n",
    "ax.set_xticklabels(fraud_count_culmulative.index[::freq])\n",
    "xtix = ax.get_xticks()\n",
    "ax.set_xticks(xtix[::freq])\n",
    "ax.set_xticklabels(labels=x_dates[::freq], rotation=90, ha='right')\n",
    "\n",
    "mplcyberpunk.add_glow_effects()\n",
    "mplcyberpunk.add_underglow()\n",
    "\n",
    "plt.savefig('images/timeseries.png', bbox_inches='tight', dpi=250)\n"
   ]
  },
  {
   "cell_type": "code",
   "execution_count": 14,
   "metadata": {},
   "outputs": [],
   "source": [
    "# def display_timeseries():\n",
    "#     data = db.fraud_detection.find()\n",
    "#     count = Counter()\n",
    "#     for i in data:\n",
    "#         count[i['data']['country']] += 1\n",
    "#     fig, ax = plt.subplots()\n",
    "#     x = np.arange(len(count.keys()))\n",
    "#     y = count.values()\n",
    "#     alpha_col = 0.7\n",
    "#     colors = [\"g\", \"deeppink\", \"dodgerblue\", \"orange\", \"white\", \"purple\", \"red\"]\n",
    "#     ax.bar(x, y, color=colors, alpha=alpha_col)\n",
    "#     mplcyberpunk.add_glow_effects()\n",
    "#     mplcyberpunk.add_underglow()\n",
    "#     fig.savefig('static/current.png')\n",
    "#     return render_template('dashboard.html')"
   ]
  }
 ],
 "metadata": {
  "kernelspec": {
   "display_name": "Python 3",
   "language": "python",
   "name": "python3"
  },
  "language_info": {
   "codemirror_mode": {
    "name": "ipython",
    "version": 3
   },
   "file_extension": ".py",
   "mimetype": "text/x-python",
   "name": "python",
   "nbconvert_exporter": "python",
   "pygments_lexer": "ipython3",
   "version": "3.7.6"
  }
 },
 "nbformat": 4,
 "nbformat_minor": 4
}

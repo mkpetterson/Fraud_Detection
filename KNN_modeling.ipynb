{
 "cells": [
  {
   "cell_type": "code",
   "execution_count": 1,
   "metadata": {},
   "outputs": [],
   "source": [
    "%load_ext autoreload\n",
    "%autoreload 2"
   ]
  },
  {
   "cell_type": "code",
   "execution_count": 2,
   "metadata": {},
   "outputs": [
    {
     "data": {
      "text/plain": [
       "'/home/jovyan/work/Fraud_Detection'"
      ]
     },
     "execution_count": 2,
     "metadata": {},
     "output_type": "execute_result"
    }
   ],
   "source": [
    "# Import Modules\n",
    "from pprint import pprint\n",
    "import json\n",
    "from bs4 import BeautifulSoup\n",
    "from urllib.parse import urlencode\n",
    "import re\n",
    "\n",
    "import pandas as pd\n",
    "import numpy as np\n",
    "from matplotlib import pyplot as plt\n",
    "import matplotlib.patches as patches\n",
    "import mplcyberpunk\n",
    "import seaborn as sns\n",
    "import scipy as sp\n",
    "import scipy.stats as stats\n",
    "from typing import List, Dict, Callable\n",
    "\n",
    "# plt.style.use('ggplot')\n",
    "plt.style.use(\"cyberpunk\")\n",
    "\n",
    "import os\n",
    "os.getcwd()"
   ]
  },
  {
   "cell_type": "code",
   "execution_count": 3,
   "metadata": {},
   "outputs": [],
   "source": [
    "# Import Custom Modules\n",
    "from src.cleaner import *"
   ]
  },
  {
   "cell_type": "code",
   "execution_count": null,
   "metadata": {},
   "outputs": [],
   "source": [
    "# Import Data\n",
    "data = pd.read_json('data/data.json')"
   ]
  },
  {
   "cell_type": "code",
   "execution_count": null,
   "metadata": {},
   "outputs": [],
   "source": [
    "# Clean Data\n",
    "cleaned_data = clean_with_target(data)\n",
    "\n",
    "# Preview Data\n",
    "cleaned_data.head(2)"
   ]
  },
  {
   "cell_type": "markdown",
   "metadata": {},
   "source": [
    "# Featurize for Visualization / KNN Model"
   ]
  },
  {
   "cell_type": "code",
   "execution_count": null,
   "metadata": {},
   "outputs": [],
   "source": [
    "def re_add_features(data:pd.DataFrame, data2:pd.DataFrame) -> pd.DataFrame:\n",
    "    \"\"\" Adds wanted features back from original dataframe \"\"\"\n",
    "    res = data.copy()\n",
    "    from_ = data2.copy()\n",
    "    \n",
    "    res['event_created'] = from_['event_created']\n",
    "    res['event_end'] = from_['event_end']\n",
    "    res['event_published'] = from_['event_published']\n",
    "    res['user_created'] = from_['user_created']\n",
    "    \n",
    "\n",
    "    return res\n",
    "\n",
    "def create_features(data:pd.DataFrame) -> pd.DataFrame:\n",
    "    \"\"\" Creates features from given data geared towards KNN Model \"\"\"\n",
    "    \n",
    "    res = data.copy()\n",
    "    # 'listed' col to binary\n",
    "    res['listed'] = res['listed'].apply(lambda x: 0 if x == 'y' else 1)\n",
    "#     # 'previous_payments' to n_previous_payments\n",
    "#     res['n_previous_payouts'] = res['previous_payouts'].apply(lambda x: len(x))\n",
    "#     res.drop(columns='previous_payouts', inplace=True)\n",
    "    # 'country' feature to 'None' instead of nan\n",
    "    res['country'] = res['country'].fillna('None')\n",
    "    \n",
    "    # Durations (create durations between event_created/start/end/publish)\n",
    "    res['event_duration'] = res['event_end'] - res['event_start']\n",
    "    res['event_till_publish'] = res['event_published'] - res['event_created']\n",
    "    res['user_event_lifespan'] = res['event_created'] - res['user_created']\n",
    "    res.drop(columns=['event_created', 'event_published', 'event_start', 'event_end'], inplace=True)\n",
    "    \n",
    "    return res"
   ]
  },
  {
   "cell_type": "code",
   "execution_count": null,
   "metadata": {},
   "outputs": [],
   "source": [
    "# # Re-add Missing Features\n",
    "# cleaned_data = re_add_features(cleaned_data, data)\n",
    "# # Final Cleaning\n",
    "# cleaned_data = create_features(cleaned_data)"
   ]
  },
  {
   "cell_type": "code",
   "execution_count": null,
   "metadata": {},
   "outputs": [],
   "source": [
    "cleaned_data.head(2)"
   ]
  },
  {
   "cell_type": "markdown",
   "metadata": {},
   "source": [
    "# Visualizations"
   ]
  },
  {
   "cell_type": "code",
   "execution_count": null,
   "metadata": {},
   "outputs": [],
   "source": [
    "# Global Series to use in Visualizations\n",
    "fraud = cleaned_data[cleaned_data['fraud'] == 1]\n",
    "legit = cleaned_data[cleaned_data['fraud'] == 0]\n",
    "event_groups = cleaned_data.groupby('fraud')"
   ]
  },
  {
   "cell_type": "code",
   "execution_count": null,
   "metadata": {},
   "outputs": [],
   "source": [
    "# Create A Fraud vs User to Event Lifespan Dist\n",
    "\n",
    "# Draw Plot\n",
    "plt.figure(figsize=(14,7), dpi= 80)\n",
    "\n",
    "alpha_col = 0.7\n",
    "colors = [\"dodgerblue\", \"red\"]\n",
    "classification = sorted(cleaned_data[\"fraud\"].unique())\n",
    "\n",
    "# Plot Points\n",
    "for col, class_ in zip(colors, classification):\n",
    "    sns.kdeplot(cleaned_data.loc[cleaned_data['fraud'] == class_, \"user_event_lifespan\"], shade=True, color=col, label=f\"Fraud={class_}\", alpha=.7)\n",
    "\n",
    "# Decoration\n",
    "plt.title('\\nDensity Plot of User Lifespan Till Event Creation by Class\\n', fontsize=22)\n",
    "plt.xlabel(\"Duration (s)\\n\", fontsize=25)\n",
    "plt.ylabel(\"Density\\n\", fontsize=25)\n",
    "legend_ = plt.legend(loc=\"upper right\", bbox_to_anchor=(0.45, 0.5, 0.5, 0.5), fontsize=20, labelspacing=0.6)\n",
    "mplcyberpunk.add_glow_effects()\n",
    "mplcyberpunk.add_underglow()\n",
    "\n",
    "# Increase Label Line Thickness\n",
    "for line in legend_.get_lines():\n",
    "    line.set_linewidth(6)\n",
    "\n",
    "# Set Limits\n",
    "\n",
    "\n",
    "# Show Plot\n",
    "plt.subplots_adjust(left=0, bottom=0, right=1.2, top=1, wspace=1, hspace=0)\n",
    "plt.show()"
   ]
  },
  {
   "cell_type": "code",
   "execution_count": null,
   "metadata": {},
   "outputs": [],
   "source": [
    "# Create A Fraud vs User to Event Lifespan Dist\n",
    "\n",
    "# Draw Plot\n",
    "plt.figure(figsize=(14,7), dpi= 80)\n",
    "\n",
    "alpha_col = 0.7\n",
    "colors = [\"red\", \"dodgerblue\"]\n",
    "\n",
    "x = cleaned_data.copy()\n",
    "x['n_previous_payouts'] = x['n_previous_payouts'].apply(lambda x: x/2048)\n",
    "\n",
    "# Plot Points\n",
    "for col, class_ in zip(colors, [0, 1]):\n",
    "    sns.kdeplot(x.loc[x['fraud'] == class_, \"n_previous_payouts\"], shade=True, color=col, label=f\"Fraud={class_}\", alpha=.7)\n",
    "\n",
    "# Decoration\n",
    "plt.title('\\nDensity Plot of n_previous_payouts by Class\\n', fontsize=22)\n",
    "plt.xlabel(\"Duration (s)\\n\", fontsize=25)\n",
    "plt.ylabel(\"Density\\n\", fontsize=25)\n",
    "legend_ = plt.legend(loc=\"upper right\", bbox_to_anchor=(0.45, 0.5, 0.5, 0.5), fontsize=20, labelspacing=0.6)\n",
    "mplcyberpunk.add_glow_effects()\n",
    "mplcyberpunk.add_underglow()\n",
    "\n",
    "# Increase Label Line Thickness\n",
    "for line in legend_.get_lines():\n",
    "    line.set_linewidth(6)\n",
    "\n",
    "# Set Limits\n",
    "\n",
    "\n",
    "# Show Plot\n",
    "plt.subplots_adjust(left=0, bottom=0, right=1.2, top=1, wspace=1, hspace=0)\n",
    "plt.show()"
   ]
  },
  {
   "cell_type": "markdown",
   "metadata": {},
   "source": [
    "# KNN Modeling"
   ]
  },
  {
   "cell_type": "code",
   "execution_count": null,
   "metadata": {},
   "outputs": [],
   "source": [
    "# Import KNN Module\n",
    "from sklearn.neighbors import KNeighborsClassifier\n",
    "from sklearn.model_selection import train_test_split\n",
    "\n",
    "\n",
    "# Copy data to avoid collisions\n",
    "df = clean_with_target(data.copy())\n",
    "\n",
    "# One Hot Encoding\n",
    "df = ohe_existence(df, ['email_domain', 'payee_name'])\n",
    "# df.drop(columns=['venue_latitude', 'venue_longitude'], inplace=True)\n",
    "df.dropna(inplace=True)"
   ]
  },
  {
   "cell_type": "code",
   "execution_count": null,
   "metadata": {},
   "outputs": [],
   "source": [
    "# Create X, y targets\n",
    "y = df.pop('fraud')\n",
    "X = df\n",
    "# Train Test Split Data\n",
    "X_train, X_test, y_train, y_test = train_test_split(X, y, test_size=0.4)"
   ]
  },
  {
   "cell_type": "code",
   "execution_count": null,
   "metadata": {},
   "outputs": [],
   "source": [
    "# View All Current NaN Features\n",
    "for col in df.columns.tolist():\n",
    "    nas = df[col].isna().sum()\n",
    "    if nas:\n",
    "        print(col, nas)"
   ]
  },
  {
   "cell_type": "code",
   "execution_count": null,
   "metadata": {},
   "outputs": [],
   "source": [
    "df"
   ]
  },
  {
   "cell_type": "code",
   "execution_count": null,
   "metadata": {},
   "outputs": [],
   "source": [
    "# Create KNN Model\n",
    "knn = KNeighborsClassifier(n_neighbors = 5,n_jobs=4)\n",
    "# Fit KNN Model\n",
    "knn.fit(X_train,y_train)"
   ]
  },
  {
   "cell_type": "code",
   "execution_count": null,
   "metadata": {},
   "outputs": [],
   "source": [
    "# Score Model\n",
    "score = knn.score(X_test,y_test)\n",
    "\n",
    "print(score)"
   ]
  },
  {
   "cell_type": "markdown",
   "metadata": {},
   "source": [
    "# Check API Data"
   ]
  },
  {
   "cell_type": "code",
   "execution_count": null,
   "metadata": {},
   "outputs": [],
   "source": [
    "from src.api_client import *\n",
    "\n",
    "event_api = EventAPIClient()\n",
    "\n",
    "def _call(client:object) -> pd.DataFrame:\n",
    "    return client.get_data()\n",
    "\n",
    "sample_call = _call(event_api)\n",
    "\n",
    "# pprint(sample_call[0])\n",
    "\n",
    "sample_df = pd.DataFrame(sample_call)"
   ]
  },
  {
   "cell_type": "code",
   "execution_count": null,
   "metadata": {},
   "outputs": [],
   "source": [
    "X_train.shape"
   ]
  },
  {
   "cell_type": "code",
   "execution_count": null,
   "metadata": {},
   "outputs": [],
   "source": [
    "sample_df.shape"
   ]
  },
  {
   "cell_type": "code",
   "execution_count": null,
   "metadata": {},
   "outputs": [],
   "source": [
    "test = clean_row(sample_df, False)\n",
    "test.shape"
   ]
  },
  {
   "cell_type": "code",
   "execution_count": null,
   "metadata": {},
   "outputs": [],
   "source": [
    "test_pred = knn.predict(test)"
   ]
  },
  {
   "cell_type": "code",
   "execution_count": null,
   "metadata": {},
   "outputs": [],
   "source": [
    "test_proba = knn.predict_proba(test)"
   ]
  },
  {
   "cell_type": "code",
   "execution_count": null,
   "metadata": {},
   "outputs": [],
   "source": [
    "classes = knn.classes_"
   ]
  },
  {
   "cell_type": "code",
   "execution_count": null,
   "metadata": {},
   "outputs": [],
   "source": [
    "test_pred, test_proba, classes"
   ]
  }
 ],
 "metadata": {
  "kernelspec": {
   "display_name": "Python 3",
   "language": "python",
   "name": "python3"
  },
  "language_info": {
   "codemirror_mode": {
    "name": "ipython",
    "version": 3
   },
   "file_extension": ".py",
   "mimetype": "text/x-python",
   "name": "python",
   "nbconvert_exporter": "python",
   "pygments_lexer": "ipython3",
   "version": "3.7.6"
  }
 },
 "nbformat": 4,
 "nbformat_minor": 4
}

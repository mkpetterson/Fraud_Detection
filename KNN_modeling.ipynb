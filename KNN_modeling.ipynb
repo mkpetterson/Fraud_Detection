{
 "cells": [
  {
   "cell_type": "code",
   "execution_count": 1,
   "metadata": {},
   "outputs": [],
   "source": [
    "%load_ext autoreload\n",
    "%autoreload 2"
   ]
  },
  {
   "cell_type": "code",
   "execution_count": 2,
   "metadata": {},
   "outputs": [
    {
     "data": {
      "text/plain": [
       "'/home/jovyan/work/Fraud_Detection'"
      ]
     },
     "execution_count": 2,
     "metadata": {},
     "output_type": "execute_result"
    }
   ],
   "source": [
    "# Import Modules\n",
    "from pprint import pprint\n",
    "import json\n",
    "from bs4 import BeautifulSoup\n",
    "from urllib.parse import urlencode\n",
    "import re\n",
    "\n",
    "import pandas as pd\n",
    "import numpy as np\n",
    "from matplotlib import pyplot as plt\n",
    "\n",
    "import os\n",
    "os.getcwd()"
   ]
  },
  {
   "cell_type": "code",
   "execution_count": 3,
   "metadata": {},
   "outputs": [],
   "source": [
    "# Import Custom Modules\n",
    "from src.cleaner import *"
   ]
  },
  {
   "cell_type": "code",
   "execution_count": 10,
   "metadata": {},
   "outputs": [],
   "source": [
    "# Import Data\n",
    "data = pd.read_json('data/data.json')"
   ]
  },
  {
   "cell_type": "code",
   "execution_count": 12,
   "metadata": {},
   "outputs": [
    {
     "data": {
      "text/html": [
       "<div>\n",
       "<style scoped>\n",
       "    .dataframe tbody tr th:only-of-type {\n",
       "        vertical-align: middle;\n",
       "    }\n",
       "\n",
       "    .dataframe tbody tr th {\n",
       "        vertical-align: top;\n",
       "    }\n",
       "\n",
       "    .dataframe thead th {\n",
       "        text-align: right;\n",
       "    }\n",
       "</style>\n",
       "<table border=\"1\" class=\"dataframe\">\n",
       "  <thead>\n",
       "    <tr style=\"text-align: right;\">\n",
       "      <th></th>\n",
       "      <th>country</th>\n",
       "      <th>currency</th>\n",
       "      <th>delivery_method</th>\n",
       "      <th>email_domain</th>\n",
       "      <th>event_start</th>\n",
       "      <th>fb_published</th>\n",
       "      <th>listed</th>\n",
       "      <th>object_id</th>\n",
       "      <th>payee_name</th>\n",
       "      <th>payout_type</th>\n",
       "      <th>previous_payouts</th>\n",
       "      <th>user_age</th>\n",
       "      <th>user_type</th>\n",
       "      <th>venue_country</th>\n",
       "      <th>venue_latitude</th>\n",
       "      <th>venue_longitude</th>\n",
       "      <th>venue_name</th>\n",
       "      <th>venue_state</th>\n",
       "      <th>fraud</th>\n",
       "    </tr>\n",
       "  </thead>\n",
       "  <tbody>\n",
       "    <tr>\n",
       "      <th>0</th>\n",
       "      <td>US</td>\n",
       "      <td>USD</td>\n",
       "      <td>0.0</td>\n",
       "      <td>gmail.com</td>\n",
       "      <td>1265594400</td>\n",
       "      <td>0</td>\n",
       "      <td>y</td>\n",
       "      <td>527017</td>\n",
       "      <td></td>\n",
       "      <td></td>\n",
       "      <td>[]</td>\n",
       "      <td>36</td>\n",
       "      <td>1</td>\n",
       "      <td>US</td>\n",
       "      <td>25.777471</td>\n",
       "      <td>-80.133433</td>\n",
       "      <td>INK Nightclub - South Beach</td>\n",
       "      <td>FL</td>\n",
       "      <td>1</td>\n",
       "    </tr>\n",
       "    <tr>\n",
       "      <th>1</th>\n",
       "      <td>US</td>\n",
       "      <td>USD</td>\n",
       "      <td>1.0</td>\n",
       "      <td>ruf.org</td>\n",
       "      <td>1296255600</td>\n",
       "      <td>0</td>\n",
       "      <td>n</td>\n",
       "      <td>786878</td>\n",
       "      <td>RUF</td>\n",
       "      <td>CHECK</td>\n",
       "      <td>[{'name': 'RUF', 'created': '2010-10-01 01:10:...</td>\n",
       "      <td>149</td>\n",
       "      <td>3</td>\n",
       "      <td>US</td>\n",
       "      <td>32.776566</td>\n",
       "      <td>-79.930922</td>\n",
       "      <td>The Charleston, SC area</td>\n",
       "      <td>SC</td>\n",
       "      <td>0</td>\n",
       "    </tr>\n",
       "  </tbody>\n",
       "</table>\n",
       "</div>"
      ],
      "text/plain": [
       "  country currency  delivery_method email_domain  event_start  fb_published  \\\n",
       "0      US      USD              0.0    gmail.com   1265594400             0   \n",
       "1      US      USD              1.0      ruf.org   1296255600             0   \n",
       "\n",
       "  listed  object_id payee_name payout_type  \\\n",
       "0      y     527017                          \n",
       "1      n     786878        RUF       CHECK   \n",
       "\n",
       "                                    previous_payouts  user_age  user_type  \\\n",
       "0                                                 []        36          1   \n",
       "1  [{'name': 'RUF', 'created': '2010-10-01 01:10:...       149          3   \n",
       "\n",
       "  venue_country  venue_latitude  venue_longitude                   venue_name  \\\n",
       "0            US       25.777471       -80.133433  INK Nightclub - South Beach   \n",
       "1            US       32.776566       -79.930922      The Charleston, SC area   \n",
       "\n",
       "  venue_state  fraud  \n",
       "0          FL      1  \n",
       "1          SC      0  "
      ]
     },
     "execution_count": 12,
     "metadata": {},
     "output_type": "execute_result"
    }
   ],
   "source": [
    "# Clean Data\n",
    "cleaned_data = clean_with_target(data)\n",
    "\n",
    "# Preview Data\n",
    "cleaned_data.head(2)"
   ]
  },
  {
   "cell_type": "code",
   "execution_count": 9,
   "metadata": {},
   "outputs": [
    {
     "data": {
      "text/plain": [
       "['country',\n",
       " 'currency',\n",
       " 'delivery_method',\n",
       " 'email_domain',\n",
       " 'event_start',\n",
       " 'fb_published',\n",
       " 'listed',\n",
       " 'object_id',\n",
       " 'payee_name',\n",
       " 'payout_type',\n",
       " 'previous_payouts',\n",
       " 'user_age',\n",
       " 'user_type',\n",
       " 'venue_country',\n",
       " 'venue_latitude',\n",
       " 'venue_longitude',\n",
       " 'venue_name',\n",
       " 'venue_state',\n",
       " 'acct_type']"
      ]
     },
     "execution_count": 9,
     "metadata": {},
     "output_type": "execute_result"
    }
   ],
   "source": []
  },
  {
   "cell_type": "markdown",
   "metadata": {},
   "source": [
    "# Check API Data"
   ]
  },
  {
   "cell_type": "code",
   "execution_count": 7,
   "metadata": {},
   "outputs": [],
   "source": [
    "from src.api_client import *\n",
    "\n",
    "event_api = EventAPIClient()\n",
    "\n",
    "def _call(client:object) -> pd.DataFrame:\n",
    "    return client.get_data()\n",
    "\n",
    "sample_call = _call(event_api)\n",
    "\n",
    "# pprint(sample_call[0])\n",
    "\n",
    "# pd.DataFrame(sample_call)"
   ]
  }
 ],
 "metadata": {
  "kernelspec": {
   "display_name": "Python 3",
   "language": "python",
   "name": "python3"
  },
  "language_info": {
   "codemirror_mode": {
    "name": "ipython",
    "version": 3
   },
   "file_extension": ".py",
   "mimetype": "text/x-python",
   "name": "python",
   "nbconvert_exporter": "python",
   "pygments_lexer": "ipython3",
   "version": "3.7.6"
  }
 },
 "nbformat": 4,
 "nbformat_minor": 4
}

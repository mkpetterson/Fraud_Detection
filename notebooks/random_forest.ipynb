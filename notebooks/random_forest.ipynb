{
 "cells": [
  {
   "cell_type": "code",
   "execution_count": 1,
   "metadata": {},
   "outputs": [],
   "source": [
    "%load_ext autoreload\n",
    "%autoreload 2\n",
    "\n",
    "import numpy as np\n",
    "import pandas as pd\n",
    "from scipy import stats\n",
    "import matplotlib.pyplot as plt\n",
    "%matplotlib inline\n",
    "import seaborn as sns\n",
    "\n",
    "from sklearn.tree import DecisionTreeClassifier\n",
    "from sklearn.ensemble import  RandomForestClassifier\n",
    "from sklearn.metrics import log_loss, make_scorer\n",
    "from sklearn.model_selection import cross_val_score, train_test_split, GridSearchCV\n",
    "\n",
    "import sys\n",
    "sys.path.append(\"../\")\n",
    "from src import cleaner, model\n",
    "from src.api_client import EventAPIClient"
   ]
  },
  {
   "cell_type": "code",
   "execution_count": 2,
   "metadata": {},
   "outputs": [],
   "source": [
    "# Import data\n",
    "data = pd.read_json('../data/data.json')"
   ]
  },
  {
   "cell_type": "code",
   "execution_count": 3,
   "metadata": {},
   "outputs": [
    {
     "data": {
      "text/html": [
       "<div>\n",
       "<style scoped>\n",
       "    .dataframe tbody tr th:only-of-type {\n",
       "        vertical-align: middle;\n",
       "    }\n",
       "\n",
       "    .dataframe tbody tr th {\n",
       "        vertical-align: top;\n",
       "    }\n",
       "\n",
       "    .dataframe thead th {\n",
       "        text-align: right;\n",
       "    }\n",
       "</style>\n",
       "<table border=\"1\" class=\"dataframe\">\n",
       "  <thead>\n",
       "    <tr style=\"text-align: right;\">\n",
       "      <th></th>\n",
       "      <th>channels</th>\n",
       "      <th>country</th>\n",
       "      <th>currency</th>\n",
       "      <th>delivery_method</th>\n",
       "      <th>email_domain</th>\n",
       "      <th>event_start</th>\n",
       "      <th>fb_published</th>\n",
       "      <th>has_logo</th>\n",
       "      <th>listed</th>\n",
       "      <th>payee_name</th>\n",
       "      <th>payout_type</th>\n",
       "      <th>user_type</th>\n",
       "      <th>venue_country</th>\n",
       "      <th>venue_latitude</th>\n",
       "      <th>venue_longitude</th>\n",
       "      <th>fraud</th>\n",
       "      <th>n_previous_payouts</th>\n",
       "    </tr>\n",
       "  </thead>\n",
       "  <tbody>\n",
       "    <tr>\n",
       "      <th>0</th>\n",
       "      <td>5</td>\n",
       "      <td>US</td>\n",
       "      <td>USD</td>\n",
       "      <td>0.0</td>\n",
       "      <td>gmail.com</td>\n",
       "      <td>1265594400</td>\n",
       "      <td>0</td>\n",
       "      <td>0</td>\n",
       "      <td>y</td>\n",
       "      <td></td>\n",
       "      <td></td>\n",
       "      <td>1</td>\n",
       "      <td>US</td>\n",
       "      <td>25.777471</td>\n",
       "      <td>-80.133433</td>\n",
       "      <td>1</td>\n",
       "      <td>0</td>\n",
       "    </tr>\n",
       "    <tr>\n",
       "      <th>1</th>\n",
       "      <td>0</td>\n",
       "      <td>US</td>\n",
       "      <td>USD</td>\n",
       "      <td>1.0</td>\n",
       "      <td>ruf.org</td>\n",
       "      <td>1296255600</td>\n",
       "      <td>0</td>\n",
       "      <td>1</td>\n",
       "      <td>n</td>\n",
       "      <td>RUF</td>\n",
       "      <td>CHECK</td>\n",
       "      <td>3</td>\n",
       "      <td>US</td>\n",
       "      <td>32.776566</td>\n",
       "      <td>-79.930922</td>\n",
       "      <td>0</td>\n",
       "      <td>49</td>\n",
       "    </tr>\n",
       "    <tr>\n",
       "      <th>2</th>\n",
       "      <td>8</td>\n",
       "      <td>US</td>\n",
       "      <td>USD</td>\n",
       "      <td>1.0</td>\n",
       "      <td>pvsd.k12.ca.us</td>\n",
       "      <td>1295713800</td>\n",
       "      <td>0</td>\n",
       "      <td>0</td>\n",
       "      <td>y</td>\n",
       "      <td>University Preparation School</td>\n",
       "      <td>CHECK</td>\n",
       "      <td>3</td>\n",
       "      <td>US</td>\n",
       "      <td>33.944201</td>\n",
       "      <td>-118.080419</td>\n",
       "      <td>0</td>\n",
       "      <td>36</td>\n",
       "    </tr>\n",
       "    <tr>\n",
       "      <th>3</th>\n",
       "      <td>6</td>\n",
       "      <td>IE</td>\n",
       "      <td>EUR</td>\n",
       "      <td>1.0</td>\n",
       "      <td>irishtabletennis.com</td>\n",
       "      <td>1360702800</td>\n",
       "      <td>0</td>\n",
       "      <td>1</td>\n",
       "      <td>y</td>\n",
       "      <td></td>\n",
       "      <td>ACH</td>\n",
       "      <td>3</td>\n",
       "      <td>None</td>\n",
       "      <td>NaN</td>\n",
       "      <td>NaN</td>\n",
       "      <td>0</td>\n",
       "      <td>21</td>\n",
       "    </tr>\n",
       "    <tr>\n",
       "      <th>4</th>\n",
       "      <td>11</td>\n",
       "      <td>US</td>\n",
       "      <td>USD</td>\n",
       "      <td>0.0</td>\n",
       "      <td>artsandbusinesscouncil.org</td>\n",
       "      <td>1297440000</td>\n",
       "      <td>1</td>\n",
       "      <td>0</td>\n",
       "      <td>y</td>\n",
       "      <td>Arts and Business Council or Greater Boston</td>\n",
       "      <td>CHECK</td>\n",
       "      <td>3</td>\n",
       "      <td>US</td>\n",
       "      <td>42.353848</td>\n",
       "      <td>-71.044276</td>\n",
       "      <td>0</td>\n",
       "      <td>49</td>\n",
       "    </tr>\n",
       "    <tr>\n",
       "      <th>...</th>\n",
       "      <td>...</td>\n",
       "      <td>...</td>\n",
       "      <td>...</td>\n",
       "      <td>...</td>\n",
       "      <td>...</td>\n",
       "      <td>...</td>\n",
       "      <td>...</td>\n",
       "      <td>...</td>\n",
       "      <td>...</td>\n",
       "      <td>...</td>\n",
       "      <td>...</td>\n",
       "      <td>...</td>\n",
       "      <td>...</td>\n",
       "      <td>...</td>\n",
       "      <td>...</td>\n",
       "      <td>...</td>\n",
       "      <td>...</td>\n",
       "    </tr>\n",
       "    <tr>\n",
       "      <th>14332</th>\n",
       "      <td>0</td>\n",
       "      <td>US</td>\n",
       "      <td>USD</td>\n",
       "      <td>0.0</td>\n",
       "      <td>yahoo.com</td>\n",
       "      <td>1361232000</td>\n",
       "      <td>0</td>\n",
       "      <td>1</td>\n",
       "      <td>n</td>\n",
       "      <td></td>\n",
       "      <td></td>\n",
       "      <td>1</td>\n",
       "      <td>US</td>\n",
       "      <td>39.373780</td>\n",
       "      <td>-76.629921</td>\n",
       "      <td>1</td>\n",
       "      <td>0</td>\n",
       "    </tr>\n",
       "    <tr>\n",
       "      <th>14333</th>\n",
       "      <td>5</td>\n",
       "      <td>US</td>\n",
       "      <td>USD</td>\n",
       "      <td>1.0</td>\n",
       "      <td>me.com</td>\n",
       "      <td>1365123600</td>\n",
       "      <td>0</td>\n",
       "      <td>0</td>\n",
       "      <td>y</td>\n",
       "      <td>ARCS Foundation Inc., San Diego Chapter</td>\n",
       "      <td>CHECK</td>\n",
       "      <td>4</td>\n",
       "      <td>US</td>\n",
       "      <td>32.778906</td>\n",
       "      <td>-117.209791</td>\n",
       "      <td>0</td>\n",
       "      <td>5</td>\n",
       "    </tr>\n",
       "    <tr>\n",
       "      <th>14334</th>\n",
       "      <td>13</td>\n",
       "      <td></td>\n",
       "      <td>USD</td>\n",
       "      <td>0.0</td>\n",
       "      <td>yahoo.com</td>\n",
       "      <td>1368327600</td>\n",
       "      <td>1</td>\n",
       "      <td>1</td>\n",
       "      <td>y</td>\n",
       "      <td></td>\n",
       "      <td>ACH</td>\n",
       "      <td>4</td>\n",
       "      <td>US</td>\n",
       "      <td>30.041819</td>\n",
       "      <td>-89.957130</td>\n",
       "      <td>0</td>\n",
       "      <td>1</td>\n",
       "    </tr>\n",
       "    <tr>\n",
       "      <th>14335</th>\n",
       "      <td>8</td>\n",
       "      <td>US</td>\n",
       "      <td>USD</td>\n",
       "      <td>0.0</td>\n",
       "      <td>velvetlist.com</td>\n",
       "      <td>1360890000</td>\n",
       "      <td>0</td>\n",
       "      <td>1</td>\n",
       "      <td>y</td>\n",
       "      <td></td>\n",
       "      <td>ACH</td>\n",
       "      <td>3</td>\n",
       "      <td>US</td>\n",
       "      <td>40.862283</td>\n",
       "      <td>-73.911363</td>\n",
       "      <td>0</td>\n",
       "      <td>128</td>\n",
       "    </tr>\n",
       "    <tr>\n",
       "      <th>14336</th>\n",
       "      <td>0</td>\n",
       "      <td>GB</td>\n",
       "      <td>GBP</td>\n",
       "      <td>0.0</td>\n",
       "      <td>gmail.com</td>\n",
       "      <td>1360740600</td>\n",
       "      <td>0</td>\n",
       "      <td>1</td>\n",
       "      <td>n</td>\n",
       "      <td></td>\n",
       "      <td>ACH</td>\n",
       "      <td>1</td>\n",
       "      <td>GB</td>\n",
       "      <td>51.460131</td>\n",
       "      <td>-2.586503</td>\n",
       "      <td>1</td>\n",
       "      <td>0</td>\n",
       "    </tr>\n",
       "  </tbody>\n",
       "</table>\n",
       "<p>14337 rows × 17 columns</p>\n",
       "</div>"
      ],
      "text/plain": [
       "       channels country currency  delivery_method                email_domain  \\\n",
       "0             5      US      USD              0.0                   gmail.com   \n",
       "1             0      US      USD              1.0                     ruf.org   \n",
       "2             8      US      USD              1.0              pvsd.k12.ca.us   \n",
       "3             6      IE      EUR              1.0        irishtabletennis.com   \n",
       "4            11      US      USD              0.0  artsandbusinesscouncil.org   \n",
       "...         ...     ...      ...              ...                         ...   \n",
       "14332         0      US      USD              0.0                   yahoo.com   \n",
       "14333         5      US      USD              1.0                      me.com   \n",
       "14334        13              USD              0.0                   yahoo.com   \n",
       "14335         8      US      USD              0.0              velvetlist.com   \n",
       "14336         0      GB      GBP              0.0                   gmail.com   \n",
       "\n",
       "       event_start  fb_published  has_logo listed  \\\n",
       "0       1265594400             0         0      y   \n",
       "1       1296255600             0         1      n   \n",
       "2       1295713800             0         0      y   \n",
       "3       1360702800             0         1      y   \n",
       "4       1297440000             1         0      y   \n",
       "...            ...           ...       ...    ...   \n",
       "14332   1361232000             0         1      n   \n",
       "14333   1365123600             0         0      y   \n",
       "14334   1368327600             1         1      y   \n",
       "14335   1360890000             0         1      y   \n",
       "14336   1360740600             0         1      n   \n",
       "\n",
       "                                        payee_name payout_type  user_type  \\\n",
       "0                                                                       1   \n",
       "1                                              RUF       CHECK          3   \n",
       "2                    University Preparation School       CHECK          3   \n",
       "3                                                          ACH          3   \n",
       "4      Arts and Business Council or Greater Boston       CHECK          3   \n",
       "...                                            ...         ...        ...   \n",
       "14332                                                                   1   \n",
       "14333      ARCS Foundation Inc., San Diego Chapter       CHECK          4   \n",
       "14334                                                      ACH          4   \n",
       "14335                                                      ACH          3   \n",
       "14336                                                      ACH          1   \n",
       "\n",
       "      venue_country  venue_latitude  venue_longitude  fraud  \\\n",
       "0                US       25.777471       -80.133433      1   \n",
       "1                US       32.776566       -79.930922      0   \n",
       "2                US       33.944201      -118.080419      0   \n",
       "3              None             NaN              NaN      0   \n",
       "4                US       42.353848       -71.044276      0   \n",
       "...             ...             ...              ...    ...   \n",
       "14332            US       39.373780       -76.629921      1   \n",
       "14333            US       32.778906      -117.209791      0   \n",
       "14334            US       30.041819       -89.957130      0   \n",
       "14335            US       40.862283       -73.911363      0   \n",
       "14336            GB       51.460131        -2.586503      1   \n",
       "\n",
       "       n_previous_payouts  \n",
       "0                       0  \n",
       "1                      49  \n",
       "2                      36  \n",
       "3                      21  \n",
       "4                      49  \n",
       "...                   ...  \n",
       "14332                   0  \n",
       "14333                   5  \n",
       "14334                   1  \n",
       "14335                 128  \n",
       "14336                   0  \n",
       "\n",
       "[14337 rows x 17 columns]"
      ]
     },
     "execution_count": 3,
     "metadata": {},
     "output_type": "execute_result"
    }
   ],
   "source": [
    "# Clean data and alter columns\n",
    "cleaned_data = cleaner.clean_with_target(data)\n",
    "cleaned_data"
   ]
  },
  {
   "cell_type": "code",
   "execution_count": 7,
   "metadata": {},
   "outputs": [
    {
     "data": {
      "text/plain": [
       "0"
      ]
     },
     "execution_count": 7,
     "metadata": {},
     "output_type": "execute_result"
    }
   ],
   "source": [
    "client = EventAPIClient()\n",
    "new_data = client.get_data()\n",
    "new_data\n",
    "len(new_data[0]['previous_payouts'])"
   ]
  },
  {
   "cell_type": "code",
   "execution_count": 18,
   "metadata": {},
   "outputs": [],
   "source": [
    "model.make_model(cleaned_data)"
   ]
  },
  {
   "cell_type": "code",
   "execution_count": 21,
   "metadata": {},
   "outputs": [
    {
     "data": {
      "text/plain": [
       "(1, 0.8109616514032922)"
      ]
     },
     "execution_count": 21,
     "metadata": {},
     "output_type": "execute_result"
    }
   ],
   "source": [
    "model.nuclear_option(new_data)"
   ]
  },
  {
   "cell_type": "code",
   "execution_count": null,
   "metadata": {},
   "outputs": [],
   "source": []
  },
  {
   "cell_type": "code",
   "execution_count": 111,
   "metadata": {},
   "outputs": [],
   "source": [
    "(cleaned_data['country'] == 'None').sum()\n",
    "(cleaned_data['country'] == '').sum()\n",
    "#cleaned_data.replace(to_replace='', value='None', inplace=True)\n",
    "#cleaned_data['country'] = cleaned_data['country'].apply(lambda x: 'None' if x == '')"
   ]
  },
  {
   "cell_type": "code",
   "execution_count": 112,
   "metadata": {},
   "outputs": [
    {
     "data": {
      "text/html": [
       "<div>\n",
       "<style scoped>\n",
       "    .dataframe tbody tr th:only-of-type {\n",
       "        vertical-align: middle;\n",
       "    }\n",
       "\n",
       "    .dataframe tbody tr th {\n",
       "        vertical-align: top;\n",
       "    }\n",
       "\n",
       "    .dataframe thead th {\n",
       "        text-align: right;\n",
       "    }\n",
       "</style>\n",
       "<table border=\"1\" class=\"dataframe\">\n",
       "  <thead>\n",
       "    <tr style=\"text-align: right;\">\n",
       "      <th></th>\n",
       "      <th>channels</th>\n",
       "      <th>country</th>\n",
       "      <th>currency</th>\n",
       "      <th>delivery_method</th>\n",
       "      <th>email_domain</th>\n",
       "      <th>event_start</th>\n",
       "      <th>fb_published</th>\n",
       "      <th>has_logo</th>\n",
       "      <th>listed</th>\n",
       "      <th>payee_name</th>\n",
       "      <th>payout_type</th>\n",
       "      <th>user_type</th>\n",
       "      <th>venue_country</th>\n",
       "      <th>venue_latitude</th>\n",
       "      <th>venue_longitude</th>\n",
       "      <th>fraud</th>\n",
       "      <th>n_previous_payouts</th>\n",
       "    </tr>\n",
       "  </thead>\n",
       "  <tbody>\n",
       "    <tr>\n",
       "      <th>0</th>\n",
       "      <td>5</td>\n",
       "      <td>US</td>\n",
       "      <td>USD</td>\n",
       "      <td>0</td>\n",
       "      <td>gmail.com</td>\n",
       "      <td>1265594400</td>\n",
       "      <td>0</td>\n",
       "      <td>0</td>\n",
       "      <td>y</td>\n",
       "      <td>None</td>\n",
       "      <td>None</td>\n",
       "      <td>1</td>\n",
       "      <td>US</td>\n",
       "      <td>25.777471</td>\n",
       "      <td>-80.133433</td>\n",
       "      <td>1</td>\n",
       "      <td>0</td>\n",
       "    </tr>\n",
       "    <tr>\n",
       "      <th>1</th>\n",
       "      <td>0</td>\n",
       "      <td>US</td>\n",
       "      <td>USD</td>\n",
       "      <td>1</td>\n",
       "      <td>ruf.org</td>\n",
       "      <td>1296255600</td>\n",
       "      <td>0</td>\n",
       "      <td>1</td>\n",
       "      <td>n</td>\n",
       "      <td>RUF</td>\n",
       "      <td>CHECK</td>\n",
       "      <td>3</td>\n",
       "      <td>US</td>\n",
       "      <td>32.776566</td>\n",
       "      <td>-79.930922</td>\n",
       "      <td>0</td>\n",
       "      <td>49</td>\n",
       "    </tr>\n",
       "    <tr>\n",
       "      <th>2</th>\n",
       "      <td>8</td>\n",
       "      <td>US</td>\n",
       "      <td>USD</td>\n",
       "      <td>1</td>\n",
       "      <td>pvsd.k12.ca.us</td>\n",
       "      <td>1295713800</td>\n",
       "      <td>0</td>\n",
       "      <td>0</td>\n",
       "      <td>y</td>\n",
       "      <td>University Preparation School</td>\n",
       "      <td>CHECK</td>\n",
       "      <td>3</td>\n",
       "      <td>US</td>\n",
       "      <td>33.944201</td>\n",
       "      <td>-118.080419</td>\n",
       "      <td>0</td>\n",
       "      <td>36</td>\n",
       "    </tr>\n",
       "    <tr>\n",
       "      <th>3</th>\n",
       "      <td>6</td>\n",
       "      <td>IE</td>\n",
       "      <td>EUR</td>\n",
       "      <td>1</td>\n",
       "      <td>irishtabletennis.com</td>\n",
       "      <td>1360702800</td>\n",
       "      <td>0</td>\n",
       "      <td>1</td>\n",
       "      <td>y</td>\n",
       "      <td>None</td>\n",
       "      <td>ACH</td>\n",
       "      <td>3</td>\n",
       "      <td>None</td>\n",
       "      <td>NaN</td>\n",
       "      <td>NaN</td>\n",
       "      <td>0</td>\n",
       "      <td>21</td>\n",
       "    </tr>\n",
       "    <tr>\n",
       "      <th>4</th>\n",
       "      <td>11</td>\n",
       "      <td>US</td>\n",
       "      <td>USD</td>\n",
       "      <td>0</td>\n",
       "      <td>artsandbusinesscouncil.org</td>\n",
       "      <td>1297440000</td>\n",
       "      <td>1</td>\n",
       "      <td>0</td>\n",
       "      <td>y</td>\n",
       "      <td>Arts and Business Council or Greater Boston</td>\n",
       "      <td>CHECK</td>\n",
       "      <td>3</td>\n",
       "      <td>US</td>\n",
       "      <td>42.353848</td>\n",
       "      <td>-71.044276</td>\n",
       "      <td>0</td>\n",
       "      <td>49</td>\n",
       "    </tr>\n",
       "  </tbody>\n",
       "</table>\n",
       "</div>"
      ],
      "text/plain": [
       "   channels country currency delivery_method                email_domain  \\\n",
       "0         5      US      USD               0                   gmail.com   \n",
       "1         0      US      USD               1                     ruf.org   \n",
       "2         8      US      USD               1              pvsd.k12.ca.us   \n",
       "3         6      IE      EUR               1        irishtabletennis.com   \n",
       "4        11      US      USD               0  artsandbusinesscouncil.org   \n",
       "\n",
       "   event_start  fb_published  has_logo listed  \\\n",
       "0   1265594400             0         0      y   \n",
       "1   1296255600             0         1      n   \n",
       "2   1295713800             0         0      y   \n",
       "3   1360702800             0         1      y   \n",
       "4   1297440000             1         0      y   \n",
       "\n",
       "                                    payee_name payout_type  user_type  \\\n",
       "0                                         None        None          1   \n",
       "1                                          RUF       CHECK          3   \n",
       "2                University Preparation School       CHECK          3   \n",
       "3                                         None         ACH          3   \n",
       "4  Arts and Business Council or Greater Boston       CHECK          3   \n",
       "\n",
       "  venue_country  venue_latitude  venue_longitude  fraud  n_previous_payouts  \n",
       "0            US       25.777471       -80.133433      1                   0  \n",
       "1            US       32.776566       -79.930922      0                  49  \n",
       "2            US       33.944201      -118.080419      0                  36  \n",
       "3          None             NaN              NaN      0                  21  \n",
       "4            US       42.353848       -71.044276      0                  49  "
      ]
     },
     "execution_count": 112,
     "metadata": {},
     "output_type": "execute_result"
    }
   ],
   "source": [
    "cleaned_data.head()"
   ]
  },
  {
   "cell_type": "markdown",
   "metadata": {},
   "source": [
    "# Set up Random Forest"
   ]
  },
  {
   "cell_type": "code",
   "execution_count": 141,
   "metadata": {},
   "outputs": [
    {
     "data": {
      "text/plain": [
       "Index(['channels', 'country', 'currency', 'delivery_method', 'email_domain',\n",
       "       'event_start', 'fb_published', 'has_logo', 'listed', 'payee_name',\n",
       "       'payout_type', 'user_type', 'venue_country', 'venue_latitude',\n",
       "       'venue_longitude', 'fraud', 'n_previous_payouts'],\n",
       "      dtype='object')"
      ]
     },
     "execution_count": 141,
     "metadata": {},
     "output_type": "execute_result"
    }
   ],
   "source": [
    "cleaned_data.columns"
   ]
  },
  {
   "cell_type": "code",
   "execution_count": 136,
   "metadata": {},
   "outputs": [],
   "source": [
    "def check_none(df):\n",
    "    cols = df.columns\n",
    "    for col in cols:\n",
    "        print(col, (df[col] == 'None').sum())"
   ]
  },
  {
   "cell_type": "code",
   "execution_count": 149,
   "metadata": {
    "collapsed": true,
    "jupyter": {
     "outputs_hidden": true
    }
   },
   "outputs": [
    {
     "name": "stdout",
     "output_type": "stream",
     "text": [
      "<class 'pandas.core.frame.DataFrame'>\n",
      "RangeIndex: 14337 entries, 0 to 14336\n",
      "Data columns (total 6 columns):\n",
      " #   Column              Non-Null Count  Dtype\n",
      "---  ------              --------------  -----\n",
      " 0   channels            14337 non-null  int64\n",
      " 1   fb_published        14337 non-null  int64\n",
      " 2   has_logo            14337 non-null  int64\n",
      " 3   user_type           14337 non-null  int64\n",
      " 4   fraud               14337 non-null  int64\n",
      " 5   n_previous_payouts  14337 non-null  int64\n",
      "dtypes: int64(6)\n",
      "memory usage: 672.2 KB\n"
     ]
    }
   ],
   "source": [
    "# Limit columns for first round of modeling\n",
    "to_keep = ['channels', 'fb_published', 'has_logo',  \n",
    "            'user_type', 'fraud', 'n_previous_payouts']\n",
    "model_df = cleaned_data[to_keep]\n",
    "model_df.info()"
   ]
  },
  {
   "cell_type": "code",
   "execution_count": 150,
   "metadata": {},
   "outputs": [
    {
     "data": {
      "text/plain": [
       "channels              0\n",
       "fb_published          0\n",
       "has_logo              0\n",
       "user_type             0\n",
       "fraud                 0\n",
       "n_previous_payouts    0\n",
       "dtype: int64"
      ]
     },
     "execution_count": 150,
     "metadata": {},
     "output_type": "execute_result"
    }
   ],
   "source": [
    "# Check to make sure no nan in dataframe\n",
    "model_df = model_df.dropna()\n",
    "model_df.isna().sum()"
   ]
  },
  {
   "cell_type": "code",
   "execution_count": 151,
   "metadata": {},
   "outputs": [],
   "source": [
    "y = model_df.pop('fraud')\n",
    "X = model_df.copy()"
   ]
  },
  {
   "cell_type": "code",
   "execution_count": 152,
   "metadata": {},
   "outputs": [],
   "source": [
    "X_train, X_test, y_train, y_test = train_test_split(X, y)"
   ]
  },
  {
   "cell_type": "code",
   "execution_count": 154,
   "metadata": {},
   "outputs": [],
   "source": [
    "model = RandomForestClassifier()\n",
    "model.fit(X_train, y_train)"
   ]
  },
  {
   "cell_type": "code",
   "execution_count": 158,
   "metadata": {},
   "outputs": [],
   "source": [
    "y_hat = model.predict(X_test)\n",
    "y_hat_proba = model.predict_proba(X_test)"
   ]
  },
  {
   "cell_type": "code",
   "execution_count": 159,
   "metadata": {},
   "outputs": [
    {
     "data": {
      "text/plain": [
       "0.9308228730822873"
      ]
     },
     "execution_count": 159,
     "metadata": {},
     "output_type": "execute_result"
    }
   ],
   "source": [
    "model.score(X_test, y_test)"
   ]
  },
  {
   "cell_type": "code",
   "execution_count": 160,
   "metadata": {},
   "outputs": [
    {
     "data": {
      "text/plain": [
       "array([0.06595923, 0.01019287, 0.01659615, 0.05318978, 0.85406197])"
      ]
     },
     "execution_count": 160,
     "metadata": {},
     "output_type": "execute_result"
    }
   ],
   "source": [
    "model.feature_importances_"
   ]
  },
  {
   "cell_type": "code",
   "execution_count": 166,
   "metadata": {},
   "outputs": [
    {
     "data": {
      "text/plain": [
       "(array([1., 0.]), array([0, 1]))"
      ]
     },
     "execution_count": 166,
     "metadata": {},
     "output_type": "execute_result"
    }
   ],
   "source": [
    "y_hat_proba[0], model.classes_"
   ]
  },
  {
   "cell_type": "code",
   "execution_count": 187,
   "metadata": {},
   "outputs": [
    {
     "data": {
      "text/plain": [
       "array([[0.37, 0.63]])"
      ]
     },
     "execution_count": 187,
     "metadata": {},
     "output_type": "execute_result"
    }
   ],
   "source": [
    "model.predict_proba(np.array(X_test.iloc[3]).reshape(1,-1))"
   ]
  },
  {
   "cell_type": "code",
   "execution_count": null,
   "metadata": {},
   "outputs": [],
   "source": []
  }
 ],
 "metadata": {
  "kernelspec": {
   "display_name": "Python 3",
   "language": "python",
   "name": "python3"
  },
  "language_info": {
   "codemirror_mode": {
    "name": "ipython",
    "version": 3
   },
   "file_extension": ".py",
   "mimetype": "text/x-python",
   "name": "python",
   "nbconvert_exporter": "python",
   "pygments_lexer": "ipython3",
   "version": "3.7.6"
  }
 },
 "nbformat": 4,
 "nbformat_minor": 4
}

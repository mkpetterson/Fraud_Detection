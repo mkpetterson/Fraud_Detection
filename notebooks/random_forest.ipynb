{
 "cells": [
  {
   "cell_type": "code",
   "execution_count": 201,
   "metadata": {},
   "outputs": [
    {
     "name": "stdout",
     "output_type": "stream",
     "text": [
      "The autoreload extension is already loaded. To reload it, use:\n",
      "  %reload_ext autoreload\n"
     ]
    }
   ],
   "source": [
    "%load_ext autoreload\n",
    "%autoreload 2\n",
    "\n",
    "import numpy as np\n",
    "import pandas as pd\n",
    "from scipy import stats\n",
    "import matplotlib.pyplot as plt\n",
    "%matplotlib inline\n",
    "import seaborn as sns\n",
    "import pickle\n",
    "\n",
    "from sklearn.tree import DecisionTreeClassifier\n",
    "from sklearn.ensemble import  RandomForestClassifier\n",
    "from sklearn.metrics import recall_score, log_loss, make_scorer, roc_curve, roc_auc_score, confusion_matrix, accuracy_score\n",
    "from sklearn.model_selection import cross_val_score, train_test_split, GridSearchCV\n",
    "\n",
    "import sys\n",
    "sys.path.append(\"../\")\n",
    "from src import cleaner, model\n",
    "from src.api_client import EventAPIClient"
   ]
  },
  {
   "cell_type": "code",
   "execution_count": 179,
   "metadata": {},
   "outputs": [],
   "source": [
    "# Import data\n",
    "data = pd.read_json('../data/data.json')"
   ]
  },
  {
   "cell_type": "code",
   "execution_count": 180,
   "metadata": {},
   "outputs": [],
   "source": [
    "# Clean data and OHE columns\n",
    "cleaned_data = cleaner.clean_with_target(data)\n",
    "cleaned_data = cleaner.ohe_existence(cleaned_data, ['email_domain', 'payee_name'])"
   ]
  },
  {
   "cell_type": "code",
   "execution_count": 181,
   "metadata": {},
   "outputs": [
    {
     "data": {
      "text/html": [
       "<div>\n",
       "<style scoped>\n",
       "    .dataframe tbody tr th:only-of-type {\n",
       "        vertical-align: middle;\n",
       "    }\n",
       "\n",
       "    .dataframe tbody tr th {\n",
       "        vertical-align: top;\n",
       "    }\n",
       "\n",
       "    .dataframe thead th {\n",
       "        text-align: right;\n",
       "    }\n",
       "</style>\n",
       "<table border=\"1\" class=\"dataframe\">\n",
       "  <thead>\n",
       "    <tr style=\"text-align: right;\">\n",
       "      <th></th>\n",
       "      <th>channels</th>\n",
       "      <th>country</th>\n",
       "      <th>currency</th>\n",
       "      <th>delivery_method</th>\n",
       "      <th>fb_published</th>\n",
       "      <th>has_logo</th>\n",
       "      <th>listed</th>\n",
       "      <th>payout_type</th>\n",
       "      <th>user_created</th>\n",
       "      <th>user_type</th>\n",
       "      <th>venue_country</th>\n",
       "      <th>venue_latitude</th>\n",
       "      <th>venue_longitude</th>\n",
       "      <th>fraud</th>\n",
       "      <th>n_previous_payouts</th>\n",
       "      <th>event_duration</th>\n",
       "      <th>event_till_publish</th>\n",
       "      <th>user_event_lifespan</th>\n",
       "      <th>has_email_domain</th>\n",
       "      <th>has_payee_name</th>\n",
       "    </tr>\n",
       "  </thead>\n",
       "  <tbody>\n",
       "    <tr>\n",
       "      <th>0</th>\n",
       "      <td>5</td>\n",
       "      <td>840</td>\n",
       "      <td>840</td>\n",
       "      <td>0.0</td>\n",
       "      <td>0</td>\n",
       "      <td>0</td>\n",
       "      <td>1</td>\n",
       "      <td>3</td>\n",
       "      <td>1259613950</td>\n",
       "      <td>1</td>\n",
       "      <td>840</td>\n",
       "      <td>25.777471</td>\n",
       "      <td>-80.133433</td>\n",
       "      <td>1</td>\n",
       "      <td>0</td>\n",
       "      <td>36000</td>\n",
       "      <td>370132.0</td>\n",
       "      <td>3125756</td>\n",
       "      <td>1</td>\n",
       "      <td>0</td>\n",
       "    </tr>\n",
       "    <tr>\n",
       "      <th>1</th>\n",
       "      <td>0</td>\n",
       "      <td>840</td>\n",
       "      <td>840</td>\n",
       "      <td>1.0</td>\n",
       "      <td>0</td>\n",
       "      <td>1</td>\n",
       "      <td>0</td>\n",
       "      <td>2</td>\n",
       "      <td>1280942776</td>\n",
       "      <td>3</td>\n",
       "      <td>840</td>\n",
       "      <td>32.776566</td>\n",
       "      <td>-79.930922</td>\n",
       "      <td>0</td>\n",
       "      <td>49</td>\n",
       "      <td>32400</td>\n",
       "      <td>625.0</td>\n",
       "      <td>12889894</td>\n",
       "      <td>1</td>\n",
       "      <td>1</td>\n",
       "    </tr>\n",
       "    <tr>\n",
       "      <th>2</th>\n",
       "      <td>8</td>\n",
       "      <td>840</td>\n",
       "      <td>840</td>\n",
       "      <td>1.0</td>\n",
       "      <td>0</td>\n",
       "      <td>0</td>\n",
       "      <td>1</td>\n",
       "      <td>2</td>\n",
       "      <td>1272559388</td>\n",
       "      <td>3</td>\n",
       "      <td>840</td>\n",
       "      <td>33.944201</td>\n",
       "      <td>-118.080419</td>\n",
       "      <td>0</td>\n",
       "      <td>36</td>\n",
       "      <td>27000</td>\n",
       "      <td>952.0</td>\n",
       "      <td>18531568</td>\n",
       "      <td>1</td>\n",
       "      <td>1</td>\n",
       "    </tr>\n",
       "    <tr>\n",
       "      <th>3</th>\n",
       "      <td>6</td>\n",
       "      <td>372</td>\n",
       "      <td>978</td>\n",
       "      <td>1.0</td>\n",
       "      <td>0</td>\n",
       "      <td>1</td>\n",
       "      <td>1</td>\n",
       "      <td>1</td>\n",
       "      <td>1283870102</td>\n",
       "      <td>3</td>\n",
       "      <td>-1</td>\n",
       "      <td>NaN</td>\n",
       "      <td>NaN</td>\n",
       "      <td>0</td>\n",
       "      <td>21</td>\n",
       "      <td>27831600</td>\n",
       "      <td>1876.0</td>\n",
       "      <td>76811468</td>\n",
       "      <td>1</td>\n",
       "      <td>0</td>\n",
       "    </tr>\n",
       "    <tr>\n",
       "      <th>4</th>\n",
       "      <td>11</td>\n",
       "      <td>840</td>\n",
       "      <td>840</td>\n",
       "      <td>0.0</td>\n",
       "      <td>1</td>\n",
       "      <td>0</td>\n",
       "      <td>1</td>\n",
       "      <td>2</td>\n",
       "      <td>1288984065</td>\n",
       "      <td>3</td>\n",
       "      <td>840</td>\n",
       "      <td>42.353848</td>\n",
       "      <td>-71.044276</td>\n",
       "      <td>0</td>\n",
       "      <td>49</td>\n",
       "      <td>28800</td>\n",
       "      <td>300.0</td>\n",
       "      <td>3010601</td>\n",
       "      <td>1</td>\n",
       "      <td>1</td>\n",
       "    </tr>\n",
       "  </tbody>\n",
       "</table>\n",
       "</div>"
      ],
      "text/plain": [
       "   channels  country  currency  delivery_method  fb_published  has_logo  \\\n",
       "0         5      840       840              0.0             0         0   \n",
       "1         0      840       840              1.0             0         1   \n",
       "2         8      840       840              1.0             0         0   \n",
       "3         6      372       978              1.0             0         1   \n",
       "4        11      840       840              0.0             1         0   \n",
       "\n",
       "   listed  payout_type  user_created  user_type  venue_country  \\\n",
       "0       1            3    1259613950          1            840   \n",
       "1       0            2    1280942776          3            840   \n",
       "2       1            2    1272559388          3            840   \n",
       "3       1            1    1283870102          3             -1   \n",
       "4       1            2    1288984065          3            840   \n",
       "\n",
       "   venue_latitude  venue_longitude  fraud  n_previous_payouts  event_duration  \\\n",
       "0       25.777471       -80.133433      1                   0           36000   \n",
       "1       32.776566       -79.930922      0                  49           32400   \n",
       "2       33.944201      -118.080419      0                  36           27000   \n",
       "3             NaN              NaN      0                  21        27831600   \n",
       "4       42.353848       -71.044276      0                  49           28800   \n",
       "\n",
       "   event_till_publish  user_event_lifespan  has_email_domain  has_payee_name  \n",
       "0            370132.0              3125756                 1               0  \n",
       "1               625.0             12889894                 1               1  \n",
       "2               952.0             18531568                 1               1  \n",
       "3              1876.0             76811468                 1               0  \n",
       "4               300.0              3010601                 1               1  "
      ]
     },
     "execution_count": 181,
     "metadata": {},
     "output_type": "execute_result"
    }
   ],
   "source": [
    "cleaned_data.head()"
   ]
  },
  {
   "cell_type": "code",
   "execution_count": 182,
   "metadata": {},
   "outputs": [],
   "source": [
    "cleaned_data.to_csv('../data/cleaned_data.csv')"
   ]
  },
  {
   "cell_type": "code",
   "execution_count": 193,
   "metadata": {},
   "outputs": [
    {
     "data": {
      "text/html": [
       "<div>\n",
       "<style scoped>\n",
       "    .dataframe tbody tr th:only-of-type {\n",
       "        vertical-align: middle;\n",
       "    }\n",
       "\n",
       "    .dataframe tbody tr th {\n",
       "        vertical-align: top;\n",
       "    }\n",
       "\n",
       "    .dataframe thead th {\n",
       "        text-align: right;\n",
       "    }\n",
       "</style>\n",
       "<table border=\"1\" class=\"dataframe\">\n",
       "  <thead>\n",
       "    <tr style=\"text-align: right;\">\n",
       "      <th></th>\n",
       "      <th>body_length</th>\n",
       "      <th>channels</th>\n",
       "      <th>country</th>\n",
       "      <th>currency</th>\n",
       "      <th>delivery_method</th>\n",
       "      <th>description</th>\n",
       "      <th>email_domain</th>\n",
       "      <th>event_created</th>\n",
       "      <th>event_end</th>\n",
       "      <th>event_published</th>\n",
       "      <th>...</th>\n",
       "      <th>user_age</th>\n",
       "      <th>user_created</th>\n",
       "      <th>user_type</th>\n",
       "      <th>venue_address</th>\n",
       "      <th>venue_country</th>\n",
       "      <th>venue_latitude</th>\n",
       "      <th>venue_longitude</th>\n",
       "      <th>venue_name</th>\n",
       "      <th>venue_state</th>\n",
       "      <th>sequence_number</th>\n",
       "    </tr>\n",
       "  </thead>\n",
       "  <tbody>\n",
       "    <tr>\n",
       "      <th>0</th>\n",
       "      <td>6017</td>\n",
       "      <td>11</td>\n",
       "      <td>FR</td>\n",
       "      <td>EUR</td>\n",
       "      <td>1.0</td>\n",
       "      <td>&lt;p style=\"margin-bottom: 1.4em; padding-bottom...</td>\n",
       "      <td>openstreetmap.fr</td>\n",
       "      <td>1359564847</td>\n",
       "      <td>1361757600</td>\n",
       "      <td>1.360496e+09</td>\n",
       "      <td>...</td>\n",
       "      <td>293</td>\n",
       "      <td>1334250959</td>\n",
       "      <td>4</td>\n",
       "      <td>86 boulevard Vivier Merle</td>\n",
       "      <td>FR</td>\n",
       "      <td>45.754934</td>\n",
       "      <td>4.858903</td>\n",
       "      <td>epitech</td>\n",
       "      <td>Rhone Alpes</td>\n",
       "      <td>2955</td>\n",
       "    </tr>\n",
       "  </tbody>\n",
       "</table>\n",
       "<p>1 rows × 39 columns</p>\n",
       "</div>"
      ],
      "text/plain": [
       "   body_length  channels country currency  delivery_method  \\\n",
       "0         6017        11      FR      EUR              1.0   \n",
       "\n",
       "                                         description      email_domain  \\\n",
       "0  <p style=\"margin-bottom: 1.4em; padding-bottom...  openstreetmap.fr   \n",
       "\n",
       "   event_created   event_end  event_published  ...  user_age  user_created  \\\n",
       "0     1359564847  1361757600     1.360496e+09  ...       293    1334250959   \n",
       "\n",
       "   user_type              venue_address  venue_country venue_latitude  \\\n",
       "0          4  86 boulevard Vivier Merle             FR      45.754934   \n",
       "\n",
       "  venue_longitude  venue_name  venue_state sequence_number  \n",
       "0        4.858903     epitech  Rhone Alpes            2955  \n",
       "\n",
       "[1 rows x 39 columns]"
      ]
     },
     "execution_count": 193,
     "metadata": {},
     "output_type": "execute_result"
    }
   ],
   "source": [
    "client = EventAPIClient()\n",
    "new_data = client.get_data()\n",
    "pd.DataFrame([new_data[0]])\n"
   ]
  },
  {
   "cell_type": "code",
   "execution_count": 206,
   "metadata": {},
   "outputs": [
    {
     "data": {
      "text/html": [
       "<div>\n",
       "<style scoped>\n",
       "    .dataframe tbody tr th:only-of-type {\n",
       "        vertical-align: middle;\n",
       "    }\n",
       "\n",
       "    .dataframe tbody tr th {\n",
       "        vertical-align: top;\n",
       "    }\n",
       "\n",
       "    .dataframe thead th {\n",
       "        text-align: right;\n",
       "    }\n",
       "</style>\n",
       "<table border=\"1\" class=\"dataframe\">\n",
       "  <thead>\n",
       "    <tr style=\"text-align: right;\">\n",
       "      <th></th>\n",
       "      <th>body_length</th>\n",
       "      <th>channels</th>\n",
       "      <th>country</th>\n",
       "      <th>currency</th>\n",
       "      <th>delivery_method</th>\n",
       "      <th>description</th>\n",
       "      <th>email_domain</th>\n",
       "      <th>event_created</th>\n",
       "      <th>event_end</th>\n",
       "      <th>event_published</th>\n",
       "      <th>...</th>\n",
       "      <th>user_age</th>\n",
       "      <th>user_created</th>\n",
       "      <th>user_type</th>\n",
       "      <th>venue_address</th>\n",
       "      <th>venue_country</th>\n",
       "      <th>venue_latitude</th>\n",
       "      <th>venue_longitude</th>\n",
       "      <th>venue_name</th>\n",
       "      <th>venue_state</th>\n",
       "      <th>sequence_number</th>\n",
       "    </tr>\n",
       "  </thead>\n",
       "  <tbody>\n",
       "    <tr>\n",
       "      <th>0</th>\n",
       "      <td>6017</td>\n",
       "      <td>11</td>\n",
       "      <td>FR</td>\n",
       "      <td>EUR</td>\n",
       "      <td>1.0</td>\n",
       "      <td>&lt;p style=\"margin-bottom: 1.4em; padding-bottom...</td>\n",
       "      <td>openstreetmap.fr</td>\n",
       "      <td>1359564847</td>\n",
       "      <td>1361757600</td>\n",
       "      <td>1.360496e+09</td>\n",
       "      <td>...</td>\n",
       "      <td>293</td>\n",
       "      <td>1334250959</td>\n",
       "      <td>4</td>\n",
       "      <td>86 boulevard Vivier Merle</td>\n",
       "      <td>FR</td>\n",
       "      <td>45.754934</td>\n",
       "      <td>4.858903</td>\n",
       "      <td>epitech</td>\n",
       "      <td>Rhone Alpes</td>\n",
       "      <td>2955</td>\n",
       "    </tr>\n",
       "  </tbody>\n",
       "</table>\n",
       "<p>1 rows × 39 columns</p>\n",
       "</div>"
      ],
      "text/plain": [
       "   body_length  channels country currency  delivery_method  \\\n",
       "0         6017        11      FR      EUR              1.0   \n",
       "\n",
       "                                         description      email_domain  \\\n",
       "0  <p style=\"margin-bottom: 1.4em; padding-bottom...  openstreetmap.fr   \n",
       "\n",
       "   event_created   event_end  event_published  ...  user_age  user_created  \\\n",
       "0     1359564847  1361757600     1.360496e+09  ...       293    1334250959   \n",
       "\n",
       "   user_type              venue_address  venue_country venue_latitude  \\\n",
       "0          4  86 boulevard Vivier Merle             FR      45.754934   \n",
       "\n",
       "  venue_longitude  venue_name  venue_state sequence_number  \n",
       "0        4.858903     epitech  Rhone Alpes            2955  \n",
       "\n",
       "[1 rows x 39 columns]"
      ]
     },
     "execution_count": 206,
     "metadata": {},
     "output_type": "execute_result"
    }
   ],
   "source": [
    "df = pd.DataFrame(new_data)"
   ]
  },
  {
   "cell_type": "code",
   "execution_count": 184,
   "metadata": {},
   "outputs": [
    {
     "data": {
      "text/html": [
       "<div>\n",
       "<style scoped>\n",
       "    .dataframe tbody tr th:only-of-type {\n",
       "        vertical-align: middle;\n",
       "    }\n",
       "\n",
       "    .dataframe tbody tr th {\n",
       "        vertical-align: top;\n",
       "    }\n",
       "\n",
       "    .dataframe thead th {\n",
       "        text-align: right;\n",
       "    }\n",
       "</style>\n",
       "<table border=\"1\" class=\"dataframe\">\n",
       "  <thead>\n",
       "    <tr style=\"text-align: right;\">\n",
       "      <th></th>\n",
       "      <th>channels</th>\n",
       "      <th>country</th>\n",
       "      <th>currency</th>\n",
       "      <th>delivery_method</th>\n",
       "      <th>fb_published</th>\n",
       "      <th>has_logo</th>\n",
       "      <th>listed</th>\n",
       "      <th>payout_type</th>\n",
       "      <th>user_created</th>\n",
       "      <th>user_type</th>\n",
       "      <th>venue_country</th>\n",
       "      <th>n_previous_payouts</th>\n",
       "      <th>event_duration</th>\n",
       "      <th>event_till_publish</th>\n",
       "      <th>user_event_lifespan</th>\n",
       "      <th>has_email_domain</th>\n",
       "      <th>has_payee_name</th>\n",
       "    </tr>\n",
       "  </thead>\n",
       "  <tbody>\n",
       "    <tr>\n",
       "      <th>0</th>\n",
       "      <td>5</td>\n",
       "      <td>840</td>\n",
       "      <td>840</td>\n",
       "      <td>0.0</td>\n",
       "      <td>0</td>\n",
       "      <td>1</td>\n",
       "      <td>1</td>\n",
       "      <td>1</td>\n",
       "      <td>1272928090</td>\n",
       "      <td>3</td>\n",
       "      <td>840</td>\n",
       "      <td>0</td>\n",
       "      <td>28800</td>\n",
       "      <td>822.0</td>\n",
       "      <td>81139726</td>\n",
       "      <td>1</td>\n",
       "      <td>0</td>\n",
       "    </tr>\n",
       "  </tbody>\n",
       "</table>\n",
       "</div>"
      ],
      "text/plain": [
       "   channels  country  currency  delivery_method  fb_published  has_logo  \\\n",
       "0         5      840       840              0.0             0         1   \n",
       "\n",
       "   listed  payout_type  user_created  user_type  venue_country  \\\n",
       "0       1            1    1272928090          3            840   \n",
       "\n",
       "   n_previous_payouts  event_duration  event_till_publish  \\\n",
       "0                   0           28800               822.0   \n",
       "\n",
       "   user_event_lifespan  has_email_domain  has_payee_name  \n",
       "0             81139726                 1               0  "
      ]
     },
     "execution_count": 184,
     "metadata": {},
     "output_type": "execute_result"
    }
   ],
   "source": [
    "#print(pd.DataFrame(new_data))\n",
    "cleaner.clean_row(new_data)\n",
    "#test_data = new_data"
   ]
  },
  {
   "cell_type": "code",
   "execution_count": 214,
   "metadata": {},
   "outputs": [
    {
     "data": {
      "text/html": [
       "<div>\n",
       "<style scoped>\n",
       "    .dataframe tbody tr th:only-of-type {\n",
       "        vertical-align: middle;\n",
       "    }\n",
       "\n",
       "    .dataframe tbody tr th {\n",
       "        vertical-align: top;\n",
       "    }\n",
       "\n",
       "    .dataframe thead th {\n",
       "        text-align: right;\n",
       "    }\n",
       "</style>\n",
       "<table border=\"1\" class=\"dataframe\">\n",
       "  <thead>\n",
       "    <tr style=\"text-align: right;\">\n",
       "      <th></th>\n",
       "      <th>channels</th>\n",
       "      <th>country</th>\n",
       "      <th>currency</th>\n",
       "      <th>delivery_method</th>\n",
       "      <th>fb_published</th>\n",
       "      <th>has_logo</th>\n",
       "      <th>listed</th>\n",
       "      <th>payout_type</th>\n",
       "      <th>user_created</th>\n",
       "      <th>user_type</th>\n",
       "      <th>venue_country</th>\n",
       "      <th>n_previous_payouts</th>\n",
       "      <th>event_duration</th>\n",
       "      <th>event_till_publish</th>\n",
       "      <th>user_event_lifespan</th>\n",
       "      <th>has_email_domain</th>\n",
       "      <th>has_payee_name</th>\n",
       "      <th>proba_fraud</th>\n",
       "      <th>risk</th>\n",
       "    </tr>\n",
       "  </thead>\n",
       "  <tbody>\n",
       "    <tr>\n",
       "      <th>0</th>\n",
       "      <td>11</td>\n",
       "      <td>250</td>\n",
       "      <td>978</td>\n",
       "      <td>1.0</td>\n",
       "      <td>0</td>\n",
       "      <td>1</td>\n",
       "      <td>1</td>\n",
       "      <td>1</td>\n",
       "      <td>1334250959</td>\n",
       "      <td>4</td>\n",
       "      <td>250</td>\n",
       "      <td>0</td>\n",
       "      <td>120600</td>\n",
       "      <td>931021.0</td>\n",
       "      <td>25313888</td>\n",
       "      <td>1</td>\n",
       "      <td>0</td>\n",
       "      <td>0.38</td>\n",
       "      <td>Medium Risk</td>\n",
       "    </tr>\n",
       "  </tbody>\n",
       "</table>\n",
       "</div>"
      ],
      "text/plain": [
       "   channels  country  currency  delivery_method  fb_published  has_logo  \\\n",
       "0        11      250       978              1.0             0         1   \n",
       "\n",
       "   listed  payout_type  user_created  user_type  venue_country  \\\n",
       "0       1            1    1334250959          4            250   \n",
       "\n",
       "   n_previous_payouts  event_duration  event_till_publish  \\\n",
       "0                   0          120600            931021.0   \n",
       "\n",
       "   user_event_lifespan  has_email_domain  has_payee_name  proba_fraud  \\\n",
       "0             25313888                 1               0         0.38   \n",
       "\n",
       "          risk  \n",
       "0  Medium Risk  "
      ]
     },
     "execution_count": 214,
     "metadata": {},
     "output_type": "execute_result"
    }
   ],
   "source": [
    "df, proba_fraud, risk = model.predict_new_data(new_data)\n",
    "df"
   ]
  },
  {
   "cell_type": "markdown",
   "metadata": {},
   "source": [
    "# Set up Random Forest"
   ]
  },
  {
   "cell_type": "code",
   "execution_count": 136,
   "metadata": {},
   "outputs": [],
   "source": [
    "def check_none(df):\n",
    "    cols = df.columns\n",
    "    for col in cols:\n",
    "        print(col, (df[col] == 'None').sum())"
   ]
  },
  {
   "cell_type": "code",
   "execution_count": 121,
   "metadata": {},
   "outputs": [
    {
     "name": "stdout",
     "output_type": "stream",
     "text": [
      "<class 'pandas.core.frame.DataFrame'>\n",
      "RangeIndex: 14337 entries, 0 to 14336\n",
      "Data columns (total 18 columns):\n",
      " #   Column               Non-Null Count  Dtype  \n",
      "---  ------               --------------  -----  \n",
      " 0   channels             14337 non-null  int64  \n",
      " 1   country              14337 non-null  int64  \n",
      " 2   currency             14337 non-null  int64  \n",
      " 3   delivery_method      14321 non-null  float64\n",
      " 4   fb_published         14337 non-null  int64  \n",
      " 5   has_logo             14337 non-null  int64  \n",
      " 6   listed               14337 non-null  int64  \n",
      " 7   payout_type          14337 non-null  int64  \n",
      " 8   user_created         14337 non-null  int64  \n",
      " 9   user_type            14337 non-null  int64  \n",
      " 10  venue_country        14337 non-null  int64  \n",
      " 11  n_previous_payouts   14337 non-null  int64  \n",
      " 12  event_duration       14337 non-null  int64  \n",
      " 13  fraud                14337 non-null  int64  \n",
      " 14  event_till_publish   14238 non-null  float64\n",
      " 15  user_event_lifespan  14337 non-null  int64  \n",
      " 16  has_email_domain     14337 non-null  int64  \n",
      " 17  has_payee_name       14337 non-null  int64  \n",
      "dtypes: float64(2), int64(16)\n",
      "memory usage: 2.0 MB\n"
     ]
    },
    {
     "data": {
      "text/plain": [
       "(None,\n",
       " channels                0\n",
       " country                 0\n",
       " currency                0\n",
       " delivery_method        16\n",
       " fb_published            0\n",
       " has_logo                0\n",
       " listed                  0\n",
       " payout_type             0\n",
       " user_created            0\n",
       " user_type               0\n",
       " venue_country           0\n",
       " n_previous_payouts      0\n",
       " event_duration          0\n",
       " fraud                   0\n",
       " event_till_publish     99\n",
       " user_event_lifespan     0\n",
       " has_email_domain        0\n",
       " has_payee_name          0\n",
       " dtype: int64)"
      ]
     },
     "execution_count": 121,
     "metadata": {},
     "output_type": "execute_result"
    }
   ],
   "source": [
    "# Limit columns for first round of modeling\n",
    "to_keep = ['channels', 'country', 'currency', 'delivery_method', 'fb_published',\n",
    "       'has_logo', 'listed', 'payout_type', 'user_created', 'user_type',\n",
    "       'venue_country', 'n_previous_payouts', 'event_duration', 'fraud',\n",
    "       'event_till_publish', 'user_event_lifespan', 'has_email_domain',\n",
    "       'has_payee_name']\n",
    "model_df = cleaned_data[to_keep]\n",
    "model_df.info(), model_df.isna().sum()"
   ]
  },
  {
   "cell_type": "code",
   "execution_count": 122,
   "metadata": {},
   "outputs": [
    {
     "data": {
      "text/plain": [
       "channels               0\n",
       "country                0\n",
       "currency               0\n",
       "delivery_method        0\n",
       "fb_published           0\n",
       "has_logo               0\n",
       "listed                 0\n",
       "payout_type            0\n",
       "user_created           0\n",
       "user_type              0\n",
       "venue_country          0\n",
       "n_previous_payouts     0\n",
       "event_duration         0\n",
       "fraud                  0\n",
       "event_till_publish     0\n",
       "user_event_lifespan    0\n",
       "has_email_domain       0\n",
       "has_payee_name         0\n",
       "dtype: int64"
      ]
     },
     "execution_count": 122,
     "metadata": {},
     "output_type": "execute_result"
    }
   ],
   "source": [
    "# Check to make sure no nan in dataframe\n",
    "model_df = model_df.dropna()\n",
    "model_df.isna().sum()"
   ]
  },
  {
   "cell_type": "code",
   "execution_count": 123,
   "metadata": {},
   "outputs": [],
   "source": [
    "y = model_df.pop('fraud')\n",
    "X = model_df.copy()"
   ]
  },
  {
   "cell_type": "code",
   "execution_count": 124,
   "metadata": {},
   "outputs": [],
   "source": [
    "X_train, X_test, y_train, y_test = train_test_split(X, y)"
   ]
  },
  {
   "cell_type": "code",
   "execution_count": 126,
   "metadata": {},
   "outputs": [
    {
     "data": {
      "text/plain": [
       "RandomForestClassifier(bootstrap=True, ccp_alpha=0.0, class_weight=None,\n",
       "                       criterion='gini', max_depth=None, max_features='auto',\n",
       "                       max_leaf_nodes=None, max_samples=None,\n",
       "                       min_impurity_decrease=0.0, min_impurity_split=None,\n",
       "                       min_samples_leaf=1, min_samples_split=2,\n",
       "                       min_weight_fraction_leaf=0.0, n_estimators=100,\n",
       "                       n_jobs=None, oob_score=False, random_state=None,\n",
       "                       verbose=0, warm_start=False)"
      ]
     },
     "execution_count": 126,
     "metadata": {},
     "output_type": "execute_result"
    }
   ],
   "source": [
    "model_rf = RandomForestClassifier()\n",
    "model_rf.fit(X_train, y_train)"
   ]
  },
  {
   "cell_type": "code",
   "execution_count": 202,
   "metadata": {},
   "outputs": [
    {
     "data": {
      "text/plain": [
       "(0.984822934232715, 0.8745874587458746)"
      ]
     },
     "execution_count": 202,
     "metadata": {},
     "output_type": "execute_result"
    }
   ],
   "source": [
    "y_hat = model_rf.predict(X_test)\n",
    "y_hat_proba = model_rf.predict_proba(X_test)\n",
    "model_rf.score(X_test, y_test), recall_score(y_test, y_hat)"
   ]
  },
  {
   "cell_type": "code",
   "execution_count": 204,
   "metadata": {},
   "outputs": [
    {
     "data": {
      "text/plain": [
       "Index(['channels', 'country', 'currency', 'delivery_method', 'fb_published',\n",
       "       'has_logo', 'listed', 'payout_type', 'user_created', 'user_type',\n",
       "       'venue_country', 'n_previous_payouts', 'event_duration',\n",
       "       'event_till_publish', 'user_event_lifespan', 'has_email_domain',\n",
       "       'has_payee_name'],\n",
       "      dtype='object')"
      ]
     },
     "execution_count": 204,
     "metadata": {},
     "output_type": "execute_result"
    }
   ],
   "source": [
    "# Make plot of feature importances\n",
    "importances = model_rf.feature_importances_\n",
    "features = X_train.columns\n"
   ]
  },
  {
   "cell_type": "code",
   "execution_count": 207,
   "metadata": {},
   "outputs": [
    {
     "data": {
      "text/plain": [
       "(array([1., 0.]), array([0, 1], dtype=int64))"
      ]
     },
     "execution_count": 207,
     "metadata": {},
     "output_type": "execute_result"
    }
   ],
   "source": [
    "y_hat_proba[0], model_rf.classes_"
   ]
  },
  {
   "cell_type": "code",
   "execution_count": 131,
   "metadata": {},
   "outputs": [
    {
     "data": {
      "text/plain": [
       "array([[1., 0.]])"
      ]
     },
     "execution_count": 131,
     "metadata": {},
     "output_type": "execute_result"
    }
   ],
   "source": [
    "model_rf.predict_proba(np.array(X_test.iloc[10]).reshape(1,-1))"
   ]
  },
  {
   "cell_type": "code",
   "execution_count": 147,
   "metadata": {},
   "outputs": [
    {
     "data": {
      "text/plain": [
       "array([[1.  , 0.  ],\n",
       "       [0.96, 0.04],\n",
       "       [1.  , 0.  ],\n",
       "       ...,\n",
       "       [1.  , 0.  ],\n",
       "       [0.99, 0.01],\n",
       "       [0.89, 0.11]])"
      ]
     },
     "execution_count": 147,
     "metadata": {},
     "output_type": "execute_result"
    }
   ],
   "source": [
    "y_hat_proba"
   ]
  },
  {
   "cell_type": "code",
   "execution_count": 149,
   "metadata": {},
   "outputs": [
    {
     "data": {
      "text/plain": [
       "<matplotlib.legend.Legend at 0x7f710d3421d0>"
      ]
     },
     "execution_count": 149,
     "metadata": {},
     "output_type": "execute_result"
    },
    {
     "data": {
      "image/png": "[encoded data removed]",
      "text/plain": [
       "<Figure size 432x288 with 1 Axes>"
      ]
     },
     "metadata": {
      "needs_background": "light"
     },
     "output_type": "display_data"
    }
   ],
   "source": [
    "# ROC curve\n",
    "auc = round(roc_auc_score(y_test, y_hat_proba[:,1]), 2)\n",
    "fpr, tpr, thresh = roc_curve(y_test, y_hat_proba[:,1])\n",
    "plt.plot(fpr, tpr, label=f'AUC score: {auc}')\n",
    "plt.legend()"
   ]
  },
  {
   "cell_type": "code",
   "execution_count": 162,
   "metadata": {},
   "outputs": [
    {
     "name": "stdout",
     "output_type": "stream",
     "text": [
      "Test Data Accuracy: 0.9848\n"
     ]
    },
    {
     "data": {
      "image/png": "[encoded data removed]",
      "text/plain": [
       "<Figure size 720x504 with 2 Axes>"
      ]
     },
     "metadata": {},
     "output_type": "display_data"
    }
   ],
   "source": [
    "# Confusion Matrix\n",
    "cm = confusion_matrix(y_test, y_hat)\n",
    "\n",
    "df_cm = pd.DataFrame(cm, index = (0, 1), columns = (0, 1))\n",
    "plt.figure(figsize = (10,7))\n",
    "sns.set(font_scale=1.4)\n",
    "sns.heatmap(df_cm, annot=True, fmt='g')\n",
    "print(\"Test Data Accuracy: %0.4f\" % accuracy_score(y_test, y_hat))"
   ]
  },
  {
   "cell_type": "code",
   "execution_count": 142,
   "metadata": {},
   "outputs": [],
   "source": [
    "with open(\"../models/random_forest_modelv3.pkl\", 'wb') as f:\n",
    "    pickle.dump(model_rf, f)"
   ]
  },
  {
   "cell_type": "code",
   "execution_count": 146,
   "metadata": {},
   "outputs": [
    {
     "data": {
      "text/plain": [
       "(1, 17)"
      ]
     },
     "execution_count": 146,
     "metadata": {},
     "output_type": "execute_result"
    }
   ],
   "source": [
    "np.array(X_test.iloc[10]).reshape(1,-1)"
   ]
  },
  {
   "cell_type": "code",
   "execution_count": null,
   "metadata": {},
   "outputs": [],
   "source": []
  }
 ],
 "metadata": {
  "kernelspec": {
   "display_name": "Python 3",
   "language": "python",
   "name": "python3"
  },
  "language_info": {
   "codemirror_mode": {
    "name": "ipython",
    "version": 3
   },
   "file_extension": ".py",
   "mimetype": "text/x-python",
   "name": "python",
   "nbconvert_exporter": "python",
   "pygments_lexer": "ipython3",
   "version": "3.7.6"
  }
 },
 "nbformat": 4,
 "nbformat_minor": 4
}
